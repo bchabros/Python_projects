{
 "cells": [
  {
   "cell_type": "markdown",
   "id": "d177a193-6ec0-4753-8b2a-09b675f97b76",
   "metadata": {},
   "source": [
    "# Deep Learning - Text Generation using RNN"
   ]
  },
  {
   "cell_type": "markdown",
   "id": "eb67a292-084c-4f78-b808-cd13affb602e",
   "metadata": {},
   "source": [
    "## Import required libraries"
   ]
  },
  {
   "cell_type": "code",
   "execution_count": 1,
   "id": "556b08a3-2f78-45d9-85c5-6090c093f9ef",
   "metadata": {},
   "outputs": [
    {
     "name": "stderr",
     "output_type": "stream",
     "text": [
      "/opt/anaconda3/envs/nlp_course/lib/python3.7/site-packages/sklearn/utils/validation.py:37: DeprecationWarning: distutils Version classes are deprecated. Use packaging.version instead.\n",
      "  LARGE_SPARSE_SUPPORTED = LooseVersion(scipy_version) >= '0.14.0'\n"
     ]
    }
   ],
   "source": [
    "from tensorflow.keras.preprocessing.sequence import pad_sequences\n",
    "from tensorflow.keras.layers import Embedding, SimpleRNN, Dense, Dropout, LSTM, GRU\n",
    "from tensorflow.keras.preprocessing.text import Tokenizer\n",
    "from tensorflow.keras.callbacks import EarlyStopping\n",
    "from tensorflow.keras.models import Sequential\n",
    "import tensorflow.keras.utils as ku \n",
    "import tensorflow\n",
    "\n",
    "from sklearn.model_selection import train_test_split\n",
    "import matplotlib.pyplot as plt\n",
    "\n",
    "import pandas as pd\n",
    "import numpy as np\n",
    "import string\n",
    "import time\n",
    "\n",
    "from IPython.display import clear_output\n",
    "import warnings\n",
    "warnings.filterwarnings(\"ignore\")"
   ]
  },
  {
   "cell_type": "markdown",
   "id": "6c7744a8-38d0-420b-8fec-b73639e47149",
   "metadata": {},
   "source": [
    "## Load the dataset"
   ]
  },
  {
   "cell_type": "code",
   "execution_count": 2,
   "id": "52965b8b-49aa-4fe0-9507-aa2814425e99",
   "metadata": {},
   "outputs": [
    {
     "data": {
      "text/plain": [
       "1250"
      ]
     },
     "execution_count": 2,
     "metadata": {},
     "output_type": "execute_result"
    }
   ],
   "source": [
    "all_headlines = []\n",
    "article_df = pd.read_csv('ArticlesMarch2018.csv')\n",
    "all_headlines.extend(list(article_df.headline.values))\n",
    "all_headlines = [h for h in all_headlines if h != 'Unknown']\n",
    "len(all_headlines)"
   ]
  },
  {
   "cell_type": "code",
   "execution_count": 3,
   "id": "8a0a09fd-f8d2-45e0-9274-df1f702da62a",
   "metadata": {},
   "outputs": [
    {
     "data": {
      "text/plain": [
       "['Virtual Coins, Real Resources',\n",
       " 'U.S. Advances Military Plans for North Korea',\n",
       " 'Mr. Trump and the ‘Very Bad Judge’',\n",
       " 'To Erase Dissent, China Bans Pooh Bear and ‘N’',\n",
       " 'Loans Flowed to Kushner Cos. After Visits to the White House',\n",
       " 'China Envoy Intends To Ease Trade Tensions',\n",
       " 'President Trump’s Contradictory, and Sometimes False, Comments About Gun Policy to Lawmakers',\n",
       " 'Classic Letter Puzzle',\n",
       " 'Silicon Valley Disruption In an Australian School',\n",
       " '‘The Assassination of Gianni Versace’ Episode 6: A Nothing Man']"
      ]
     },
     "execution_count": 3,
     "metadata": {},
     "output_type": "execute_result"
    }
   ],
   "source": [
    "all_headlines[:10]"
   ]
  },
  {
   "cell_type": "markdown",
   "id": "87cdfb27-65ec-47db-aa4b-0a136c85fe80",
   "metadata": {},
   "source": [
    "## Dataset preparation"
   ]
  },
  {
   "cell_type": "markdown",
   "id": "7297f4e9-fd86-4a3f-9792-67a129f5e06e",
   "metadata": {},
   "source": [
    "### Dataset cleaning"
   ]
  },
  {
   "cell_type": "code",
   "execution_count": 4,
   "id": "9ab8f10a-ec60-4d56-a0b6-24f99232c0a5",
   "metadata": {},
   "outputs": [],
   "source": [
    "def clean_text(txt):\n",
    "    txt = ''.join(v for v in txt if v not in string.punctuation).lower()\n",
    "    txt = txt.encode('utf8').decode('ascii', 'ignore')\n",
    "    return txt"
   ]
  },
  {
   "cell_type": "code",
   "execution_count": 5,
   "id": "65793678-a317-45ca-9bab-cd817d05f380",
   "metadata": {},
   "outputs": [
    {
     "data": {
      "text/plain": [
       "['virtual coins real resources',\n",
       " 'us advances military plans for north korea',\n",
       " 'mr trump and the very bad judge',\n",
       " 'to erase dissent china bans pooh bear and n',\n",
       " 'loans flowed to kushner cos after visits to the white house',\n",
       " 'china envoy intends to ease trade tensions',\n",
       " 'president trumps contradictory and sometimes false comments about gun policy to lawmakers',\n",
       " 'classic letter puzzle',\n",
       " 'silicon valley disruption in an australian school',\n",
       " 'the assassination of gianni versace episode 6 a nothing man']"
      ]
     },
     "execution_count": 5,
     "metadata": {},
     "output_type": "execute_result"
    }
   ],
   "source": [
    "corpus = [clean_text(x) for x in all_headlines]\n",
    "corpus[:10]"
   ]
  },
  {
   "cell_type": "markdown",
   "id": "0a140983-88c6-4a86-90ae-e3eebb5ebc1d",
   "metadata": {},
   "source": [
    "### Generating Sequence of N-gram Tokens"
   ]
  },
  {
   "cell_type": "code",
   "execution_count": 6,
   "id": "fbc7fe72-4a75-4d1d-b7c3-cba2909eab6d",
   "metadata": {},
   "outputs": [
    {
     "name": "stdout",
     "output_type": "stream",
     "text": [
      "[33, 469, 1062, 3, 191, 16, 84, 767]\n"
     ]
    }
   ],
   "source": [
    "tokenizer = Tokenizer()\n",
    "tokenizer.fit_on_texts(corpus)\n",
    "token_list = tokenizer.texts_to_sequences(['I am happy to see you here today'])[0]\n",
    "print(token_list)"
   ]
  },
  {
   "cell_type": "code",
   "execution_count": 7,
   "id": "fc02bf6f-ab9f-4567-8786-d448016e4d4c",
   "metadata": {},
   "outputs": [
    {
     "data": {
      "text/plain": [
       "[[33, 469],\n",
       " [33, 469, 1062],\n",
       " [33, 469, 1062, 3],\n",
       " [33, 469, 1062, 3, 191],\n",
       " [33, 469, 1062, 3, 191, 16],\n",
       " [33, 469, 1062, 3, 191, 16, 84],\n",
       " [33, 469, 1062, 3, 191, 16, 84, 767]]"
      ]
     },
     "execution_count": 7,
     "metadata": {},
     "output_type": "execute_result"
    }
   ],
   "source": [
    "check=[]\n",
    "\n",
    "for i in range(1, len(token_list)):\n",
    "    n_gram_sequence = token_list[:i+1]\n",
    "    check.append(n_gram_sequence)\n",
    "    \n",
    "check"
   ]
  },
  {
   "cell_type": "code",
   "execution_count": 8,
   "id": "e0771fa7-89a8-481a-910c-6e8d9362f803",
   "metadata": {},
   "outputs": [],
   "source": [
    "tokenizer = Tokenizer()\n",
    "\n",
    "def get_sequence_of_tokens(corpus):\n",
    "    # tokenization\n",
    "    tokenizer.fit_on_texts(corpus)\n",
    "    total_words = len(tokenizer.word_index) + 1\n",
    "    \n",
    "    # convert data to sequence of tokens \n",
    "    input_sequences = []\n",
    "    for line in corpus:\n",
    "        token_list = tokenizer.texts_to_sequences([line])[0]\n",
    "        for i in range(1, len(token_list)):\n",
    "            n_gram_sequence = token_list[:i+1]\n",
    "            input_sequences.append(n_gram_sequence)\n",
    "    return input_sequences, total_words"
   ]
  },
  {
   "cell_type": "code",
   "execution_count": 9,
   "id": "a90d8e0c-b1df-459e-97a3-cdaf341404e6",
   "metadata": {},
   "outputs": [],
   "source": [
    "inp_sequences, total_words = get_sequence_of_tokens(corpus)"
   ]
  },
  {
   "cell_type": "code",
   "execution_count": 10,
   "id": "78d9655e-6c7f-40dc-9e62-7a69e172906a",
   "metadata": {},
   "outputs": [
    {
     "data": {
      "text/plain": [
       "[[1119, 1120],\n",
       " [1119, 1120, 116],\n",
       " [1119, 1120, 116, 1121],\n",
       " [31, 1122],\n",
       " [31, 1122, 589],\n",
       " [31, 1122, 589, 392],\n",
       " [31, 1122, 589, 392, 7],\n",
       " [31, 1122, 589, 392, 7, 61],\n",
       " [31, 1122, 589, 392, 7, 61, 70],\n",
       " [117, 10]]"
      ]
     },
     "execution_count": 10,
     "metadata": {},
     "output_type": "execute_result"
    }
   ],
   "source": [
    "inp_sequences[:10]"
   ]
  },
  {
   "cell_type": "code",
   "execution_count": 11,
   "id": "ce4f4f52-1891-44f5-8157-7013ed8ff7ae",
   "metadata": {},
   "outputs": [
    {
     "data": {
      "text/plain": [
       "3582"
      ]
     },
     "execution_count": 11,
     "metadata": {},
     "output_type": "execute_result"
    }
   ],
   "source": [
    "total_words"
   ]
  },
  {
   "cell_type": "markdown",
   "id": "36c101d8-c06f-4f46-b0b0-d6dc9d4316bc",
   "metadata": {},
   "source": [
    "### Padding the Sequences and obtain Variables : Predictors and Target"
   ]
  },
  {
   "cell_type": "code",
   "execution_count": 12,
   "id": "e3f63c14-65cf-4093-86bb-c8fedfaf3f88",
   "metadata": {},
   "outputs": [],
   "source": [
    "def generate_padded_sequences(input_sequences):\n",
    "    max_sequence_len = max([len(x) for x in input_sequences])\n",
    "    input_sequences = np.array(pad_sequences(input_sequences,\n",
    "                                             maxlen=max_sequence_len,\n",
    "                                             padding='pre'))\n",
    "    \n",
    "    predictors, label = input_sequences[:, :-1], input_sequences[:, -1]\n",
    "    label = ku.to_categorical(label, num_classes=total_words)\n",
    "    return predictors, label, max_sequence_len"
   ]
  },
  {
   "cell_type": "code",
   "execution_count": 13,
   "id": "40d00e98-1965-4948-9987-5e489ff4681e",
   "metadata": {},
   "outputs": [],
   "source": [
    "predictors, label, max_sequence_len = generate_padded_sequences(inp_sequences)"
   ]
  },
  {
   "cell_type": "code",
   "execution_count": 14,
   "id": "3c12f859-2ada-441c-b1b9-a20614dc90a2",
   "metadata": {},
   "outputs": [
    {
     "data": {
      "text/plain": [
       "3582"
      ]
     },
     "execution_count": 14,
     "metadata": {},
     "output_type": "execute_result"
    }
   ],
   "source": [
    "len(label[0]) # total words "
   ]
  },
  {
   "cell_type": "code",
   "execution_count": 15,
   "id": "3e6c5979-241e-43e8-b173-3083f299536a",
   "metadata": {},
   "outputs": [
    {
     "data": {
      "text/plain": [
       "18"
      ]
     },
     "execution_count": 15,
     "metadata": {},
     "output_type": "execute_result"
    }
   ],
   "source": [
    "max_sequence_len"
   ]
  },
  {
   "cell_type": "markdown",
   "id": "ce0ccc6a-5eb5-4c47-af63-9324e123b8e6",
   "metadata": {},
   "source": [
    "## RNN vs LSTM vs GRU for Text Generation"
   ]
  },
  {
   "cell_type": "code",
   "execution_count": 16,
   "id": "855f4c0f-f93c-4301-bd7c-56b25234cf0a",
   "metadata": {},
   "outputs": [],
   "source": [
    "def create_RNN_model(max_sequence_len, total_words):\n",
    "    input_len = max_sequence_len - 1\n",
    "    model = Sequential()\n",
    "    \n",
    "    # add input embedding layer\n",
    "    model.add(Embedding(total_words,\n",
    "                        32,\n",
    "                        input_length=input_len))\n",
    "    \n",
    "    # input_dim: Integer. Size of the vocabulary, i.e. maximum integer index + 1.\n",
    "    # output_dim: Integer. Dimension of the dense embedding.\n",
    "    # input_length: Length of input sequences, when it is constant.\n",
    "    \n",
    "    # add hidden layer 1 - RNN layer\n",
    "    model.add(SimpleRNN(200))\n",
    "    \n",
    "    # add hidden layer 2 - dropout layer \n",
    "    model.add(Dropout(0.1))\n",
    "    \n",
    "    # add output layer \n",
    "    model.add(Dense(total_words,\n",
    "                    activation='softmax'))\n",
    "\n",
    "    model.compile(loss='categorical_crossentropy',\n",
    "                  optimizer='adam')\n",
    "    \n",
    "    return model"
   ]
  },
  {
   "cell_type": "code",
   "execution_count": 17,
   "id": "449bad4c-5b36-443e-9759-a7eecb618bf9",
   "metadata": {},
   "outputs": [
    {
     "name": "stdout",
     "output_type": "stream",
     "text": [
      "WARNING:tensorflow:From /opt/anaconda3/envs/nlp_course/lib/python3.7/site-packages/tensorflow/python/ops/resource_variable_ops.py:435: colocate_with (from tensorflow.python.framework.ops) is deprecated and will be removed in a future version.\n",
      "Instructions for updating:\n",
      "Colocations handled automatically by placer.\n",
      "WARNING:tensorflow:From /opt/anaconda3/envs/nlp_course/lib/python3.7/site-packages/tensorflow/python/keras/layers/core.py:143: calling dropout (from tensorflow.python.ops.nn_ops) with keep_prob is deprecated and will be removed in a future version.\n",
      "Instructions for updating:\n",
      "Please use `rate` instead of `keep_prob`. Rate should be set to `rate = 1 - keep_prob`.\n",
      "_________________________________________________________________\n",
      "Layer (type)                 Output Shape              Param #   \n",
      "=================================================================\n",
      "embedding (Embedding)        (None, 17, 32)            114624    \n",
      "_________________________________________________________________\n",
      "simple_rnn (SimpleRNN)       (None, 200)               46600     \n",
      "_________________________________________________________________\n",
      "dropout (Dropout)            (None, 200)               0         \n",
      "_________________________________________________________________\n",
      "dense (Dense)                (None, 3582)              719982    \n",
      "=================================================================\n",
      "Total params: 881,206\n",
      "Trainable params: 881,206\n",
      "Non-trainable params: 0\n",
      "_________________________________________________________________\n"
     ]
    }
   ],
   "source": [
    "model_RNN = create_RNN_model(max_sequence_len, total_words)\n",
    "model_RNN.summary()"
   ]
  },
  {
   "cell_type": "code",
   "execution_count": 18,
   "id": "1ce4a49a-1a31-43f0-9e3f-9aa98c061039",
   "metadata": {},
   "outputs": [],
   "source": [
    "def create_LSTM_model(max_sequence_len, total_words):\n",
    "    input_len = max_sequence_len - 1\n",
    "    model = Sequential()\n",
    "        \n",
    "    # add input embedding layer\n",
    "    model.add(Embedding(total_words,\n",
    "                        32,\n",
    "                        input_length=input_len))\n",
    "    \n",
    "    # input_dim: Integer. Size of the vocabulary, i.e. maximum integer index + 1.\n",
    "    # output_dim: Integer. Dimension of the dense embedding.\n",
    "    # input_length: Length of input sequences, when it is constant.\n",
    "    \n",
    "    # add hidden layer 1 - RNN layer\n",
    "    model.add(LSTM(200))\n",
    "    \n",
    "    # add hidden layer 2 - dropout layer \n",
    "    model.add(Dropout(0.1))\n",
    "    \n",
    "    # add output layer \n",
    "    model.add(Dense(total_words,\n",
    "                    activation='softmax'))\n",
    "    \n",
    "    model.compile(loss='categorical_crossentropy',\n",
    "                  optimizer='adam')\n",
    "    \n",
    "    return model"
   ]
  },
  {
   "cell_type": "code",
   "execution_count": 19,
   "id": "12130c63-9f6d-4ef3-a79a-8669bb1dc3df",
   "metadata": {},
   "outputs": [
    {
     "name": "stdout",
     "output_type": "stream",
     "text": [
      "_________________________________________________________________\n",
      "Layer (type)                 Output Shape              Param #   \n",
      "=================================================================\n",
      "embedding_1 (Embedding)      (None, 17, 32)            114624    \n",
      "_________________________________________________________________\n",
      "lstm (LSTM)                  (None, 200)               186400    \n",
      "_________________________________________________________________\n",
      "dropout_1 (Dropout)          (None, 200)               0         \n",
      "_________________________________________________________________\n",
      "dense_1 (Dense)              (None, 3582)              719982    \n",
      "=================================================================\n",
      "Total params: 1,021,006\n",
      "Trainable params: 1,021,006\n",
      "Non-trainable params: 0\n",
      "_________________________________________________________________\n"
     ]
    }
   ],
   "source": [
    "model_LSTM = create_LSTM_model(max_sequence_len, total_words)\n",
    "model_LSTM.summary()"
   ]
  },
  {
   "cell_type": "code",
   "execution_count": 20,
   "id": "39110cff-b04b-4399-81bc-5788dca1d635",
   "metadata": {},
   "outputs": [],
   "source": [
    "def create_GRU_model(max_sequence_len, total_words):\n",
    "    input_len = max_sequence_len - 1\n",
    "    model = Sequential()\n",
    "        \n",
    "    # add input embedding layer\n",
    "    model.add(Embedding(total_words,\n",
    "                        32,\n",
    "                        input_length=input_len))\n",
    "    \n",
    "    # input_dim: Integer. Size of the vocabulary, i.e. maximum integer index + 1.\n",
    "    # output_dim: Integer. Dimension of the dense embedding.\n",
    "    # input_length: Length of input sequences, when it is constant.\n",
    "    \n",
    "    # add hidden layer 1 - RNN layer\n",
    "    model.add(GRU(200))\n",
    "    \n",
    "    # add hidden layer 2 - dropout layer \n",
    "    model.add(Dropout(0.1))\n",
    "    \n",
    "    # add output layer \n",
    "    model.add(Dense(total_words,\n",
    "                    activation='softmax'))\n",
    "\n",
    "    model.compile(loss='categorical_crossentropy',\n",
    "                  optimizer='adam')\n",
    "        \n",
    "    return model"
   ]
  },
  {
   "cell_type": "code",
   "execution_count": 21,
   "id": "21f731ef-b1d4-4937-a079-653d1b57310a",
   "metadata": {},
   "outputs": [
    {
     "name": "stdout",
     "output_type": "stream",
     "text": [
      "_________________________________________________________________\n",
      "Layer (type)                 Output Shape              Param #   \n",
      "=================================================================\n",
      "embedding_2 (Embedding)      (None, 17, 32)            114624    \n",
      "_________________________________________________________________\n",
      "gru (GRU)                    (None, 200)               139800    \n",
      "_________________________________________________________________\n",
      "dropout_2 (Dropout)          (None, 200)               0         \n",
      "_________________________________________________________________\n",
      "dense_2 (Dense)              (None, 3582)              719982    \n",
      "=================================================================\n",
      "Total params: 974,406\n",
      "Trainable params: 974,406\n",
      "Non-trainable params: 0\n",
      "_________________________________________________________________\n"
     ]
    }
   ],
   "source": [
    "model_GRU = create_GRU_model(max_sequence_len, total_words)\n",
    "model_GRU.summary()"
   ]
  },
  {
   "cell_type": "markdown",
   "id": "90a284a4-1795-4dfb-bd06-93ec8b059b89",
   "metadata": {},
   "source": [
    "## Fit models"
   ]
  },
  {
   "cell_type": "code",
   "execution_count": 22,
   "id": "032f4519-c87e-47d0-bd46-92679a48188b",
   "metadata": {},
   "outputs": [],
   "source": [
    "# setting early_stopping feature to stop early on getting stagnat\n",
    "early_stopping = EarlyStopping(min_delta=0.01, # minimum amount of change to count as an improvement\n",
    "                               patience=5, # how many epochs to wait before stopping\n",
    "                               restore_best_weights=True)"
   ]
  },
  {
   "cell_type": "code",
   "execution_count": 23,
   "id": "b3a93ea5-4d92-4a42-aecd-d06d608da6ca",
   "metadata": {},
   "outputs": [],
   "source": [
    "X_train, X_temp, y_train, y_temp = train_test_split(predictors, \n",
    "                                                    label, \n",
    "                                                    test_size=0.3, \n",
    "                                                    random_state=42)\n",
    "X_val, X_test, y_val, y_test = train_test_split(X_temp, \n",
    "                                                y_temp, \n",
    "                                                test_size=0.5,\n",
    "                                                random_state=42)"
   ]
  },
  {
   "cell_type": "code",
   "execution_count": 24,
   "id": "c0aabac6-c425-4cec-824b-8cb7d1314563",
   "metadata": {
    "tags": []
   },
   "outputs": [
    {
     "name": "stdout",
     "output_type": "stream",
     "text": [
      "Train on 8057 samples, validate on 1209 samples\n",
      "WARNING:tensorflow:From /opt/anaconda3/envs/nlp_course/lib/python3.7/site-packages/tensorflow/python/ops/math_ops.py:3066: to_int32 (from tensorflow.python.ops.math_ops) is deprecated and will be removed in a future version.\n",
      "Instructions for updating:\n",
      "Use tf.cast instead.\n",
      "Epoch 1/200\n"
     ]
    },
    {
     "name": "stderr",
     "output_type": "stream",
     "text": [
      "2023-11-02 18:33:09.499278: I tensorflow/core/platform/cpu_feature_guard.cc:141] Your CPU supports instructions that this TensorFlow binary was not compiled to use: SSE4.1 SSE4.2\n",
      "2023-11-02 18:33:09.499728: I tensorflow/core/common_runtime/process_util.cc:71] Creating new thread pool with default inter op setting: 10. Tune using inter_op_parallelism_threads for best performance.\n"
     ]
    },
    {
     "name": "stdout",
     "output_type": "stream",
     "text": [
      "8057/8057 [==============================] - 19s 2ms/sample - loss: 7.6567 - val_loss: 7.1872\n",
      "Epoch 2/200\n",
      "8057/8057 [==============================] - 17s 2ms/sample - loss: 7.1206 - val_loss: 6.9512\n",
      "Epoch 3/200\n",
      "8057/8057 [==============================] - 17s 2ms/sample - loss: 6.8473 - val_loss: 6.4902\n",
      "Epoch 4/200\n",
      "8057/8057 [==============================] - 17s 2ms/sample - loss: 6.4823 - val_loss: 6.0480\n",
      "Epoch 5/200\n",
      "8057/8057 [==============================] - 17s 2ms/sample - loss: 6.0634 - val_loss: 5.5050\n",
      "Epoch 6/200\n",
      "8057/8057 [==============================] - 17s 2ms/sample - loss: 5.5845 - val_loss: 4.9431\n",
      "Epoch 7/200\n",
      "8057/8057 [==============================] - 16s 2ms/sample - loss: 5.0939 - val_loss: 4.3550\n",
      "Epoch 8/200\n",
      "8057/8057 [==============================] - 16s 2ms/sample - loss: 4.5801 - val_loss: 3.8886\n",
      "Epoch 9/200\n",
      "8057/8057 [==============================] - 16s 2ms/sample - loss: 4.0817 - val_loss: 3.3412\n",
      "Epoch 10/200\n",
      "8057/8057 [==============================] - 17s 2ms/sample - loss: 3.5946 - val_loss: 2.9472\n",
      "Epoch 11/200\n",
      "8057/8057 [==============================] - 17s 2ms/sample - loss: 3.1679 - val_loss: 2.5201\n",
      "Epoch 12/200\n",
      "8057/8057 [==============================] - 16s 2ms/sample - loss: 2.7805 - val_loss: 2.2024\n",
      "Epoch 13/200\n",
      "8057/8057 [==============================] - 17s 2ms/sample - loss: 2.4450 - val_loss: 1.9385\n",
      "Epoch 14/200\n",
      "8057/8057 [==============================] - 17s 2ms/sample - loss: 2.1733 - val_loss: 1.6954\n",
      "Epoch 15/200\n",
      "8057/8057 [==============================] - 17s 2ms/sample - loss: 1.9424 - val_loss: 1.5267\n",
      "Epoch 16/200\n",
      "8057/8057 [==============================] - 16s 2ms/sample - loss: 1.7402 - val_loss: 1.3507\n",
      "Epoch 17/200\n",
      "8057/8057 [==============================] - 16s 2ms/sample - loss: 1.5626 - val_loss: 1.2120\n",
      "Epoch 18/200\n",
      "8057/8057 [==============================] - 16s 2ms/sample - loss: 1.4033 - val_loss: 1.0528\n",
      "Epoch 19/200\n",
      "8057/8057 [==============================] - 16s 2ms/sample - loss: 1.2512 - val_loss: 0.9536\n",
      "Epoch 20/200\n",
      "8057/8057 [==============================] - 17s 2ms/sample - loss: 1.1402 - val_loss: 0.8647\n",
      "Epoch 21/200\n",
      "8057/8057 [==============================] - 16s 2ms/sample - loss: 1.0400 - val_loss: 0.7983\n",
      "Epoch 22/200\n",
      "8057/8057 [==============================] - 16s 2ms/sample - loss: 0.9384 - val_loss: 0.7099\n",
      "Epoch 23/200\n",
      "8057/8057 [==============================] - 16s 2ms/sample - loss: 0.8546 - val_loss: 0.6368\n",
      "Epoch 24/200\n",
      "8057/8057 [==============================] - 17s 2ms/sample - loss: 0.7836 - val_loss: 0.5661\n",
      "Epoch 25/200\n",
      "8057/8057 [==============================] - 16s 2ms/sample - loss: 0.7152 - val_loss: 0.5346\n",
      "Epoch 26/200\n",
      "8057/8057 [==============================] - 16s 2ms/sample - loss: 0.6667 - val_loss: 0.4916\n",
      "Epoch 27/200\n",
      "8057/8057 [==============================] - 16s 2ms/sample - loss: 0.6141 - val_loss: 0.4495\n",
      "Epoch 28/200\n",
      "8057/8057 [==============================] - 16s 2ms/sample - loss: 0.5822 - val_loss: 0.4211\n",
      "Epoch 29/200\n",
      "8057/8057 [==============================] - 16s 2ms/sample - loss: 0.5439 - val_loss: 0.3925\n",
      "Epoch 30/200\n",
      "8057/8057 [==============================] - 15s 2ms/sample - loss: 0.5075 - val_loss: 0.3776\n",
      "Epoch 31/200\n",
      "8057/8057 [==============================] - 16s 2ms/sample - loss: 0.4917 - val_loss: 0.3558\n",
      "Epoch 32/200\n",
      "8057/8057 [==============================] - 16s 2ms/sample - loss: 0.4691 - val_loss: 0.3495\n",
      "Epoch 33/200\n",
      "8057/8057 [==============================] - 16s 2ms/sample - loss: 0.4573 - val_loss: 0.3356\n",
      "Epoch 34/200\n",
      "8057/8057 [==============================] - 16s 2ms/sample - loss: 0.4451 - val_loss: 0.3163\n",
      "Epoch 35/200\n",
      "8057/8057 [==============================] - 16s 2ms/sample - loss: 0.4244 - val_loss: 0.3199\n",
      "Epoch 36/200\n",
      "8057/8057 [==============================] - 15s 2ms/sample - loss: 0.4158 - val_loss: 0.3126\n",
      "Epoch 37/200\n",
      "8057/8057 [==============================] - 15s 2ms/sample - loss: 0.4008 - val_loss: 0.2936\n",
      "Epoch 38/200\n",
      "8057/8057 [==============================] - 15s 2ms/sample - loss: 0.3950 - val_loss: 0.2866\n",
      "Epoch 39/200\n",
      "8057/8057 [==============================] - 15s 2ms/sample - loss: 0.4028 - val_loss: 0.3014\n",
      "Epoch 40/200\n",
      "8057/8057 [==============================] - 15s 2ms/sample - loss: 0.3897 - val_loss: 0.2844\n",
      "Epoch 41/200\n",
      "8057/8057 [==============================] - 15s 2ms/sample - loss: 0.3925 - val_loss: 0.2816\n",
      "Epoch 42/200\n",
      "8057/8057 [==============================] - 15s 2ms/sample - loss: 0.3830 - val_loss: 0.2909\n",
      "Epoch 43/200\n",
      "8057/8057 [==============================] - 15s 2ms/sample - loss: 0.3817 - val_loss: 0.2802\n",
      "Epoch 44/200\n",
      "8057/8057 [==============================] - 15s 2ms/sample - loss: 0.3680 - val_loss: 0.2732\n",
      "Epoch 45/200\n",
      "8057/8057 [==============================] - 16s 2ms/sample - loss: 0.3655 - val_loss: 0.2751\n",
      "Epoch 46/200\n",
      "8057/8057 [==============================] - 17s 2ms/sample - loss: 0.3672 - val_loss: 0.2744\n"
     ]
    }
   ],
   "source": [
    "start_time = time.time()\n",
    "history = model_RNN.fit(predictors,\n",
    "                        label,\n",
    "                        epochs=200,\n",
    "                        validation_data =(X_val, y_val),\n",
    "                        callbacks=[early_stopping])\n",
    "clear_output(wait=True)\n",
    "end_time = time.time()"
   ]
  },
  {
   "cell_type": "code",
   "execution_count": 25,
   "id": "081fd538-fb7f-4d5d-b5d0-1402a92d232f",
   "metadata": {},
   "outputs": [
    {
     "name": "stdout",
     "output_type": "stream",
     "text": [
      "Total time: 00:12:26\n"
     ]
    }
   ],
   "source": [
    "total_time = end_time - start_time\n",
    "total_time_td = time.strftime(\"%H:%M:%S\", time.gmtime(total_time))\n",
    "print(f'Total time: {total_time_td}')"
   ]
  },
  {
   "cell_type": "code",
   "execution_count": 26,
   "id": "326d60d3-acf7-4720-b27c-b1560c95c540",
   "metadata": {},
   "outputs": [],
   "source": [
    "model_RNN.save('model_RNN_valid')"
   ]
  },
  {
   "cell_type": "code",
   "execution_count": 27,
   "id": "354f3008-9866-4ab2-8696-1874ddf60109",
   "metadata": {},
   "outputs": [
    {
     "name": "stdout",
     "output_type": "stream",
     "text": [
      "Train on 8057 samples, validate on 1209 samples\n",
      "Epoch 1/200\n",
      "8057/8057 [==============================] - 41s 5ms/sample - loss: 7.5855 - val_loss: 7.1336\n",
      "Epoch 2/200\n",
      "8057/8057 [==============================] - 39s 5ms/sample - loss: 7.0744 - val_loss: 6.9328\n",
      "Epoch 3/200\n",
      "8057/8057 [==============================] - 39s 5ms/sample - loss: 6.9119 - val_loss: 6.7765\n",
      "Epoch 4/200\n",
      "8057/8057 [==============================] - 39s 5ms/sample - loss: 6.7853 - val_loss: 6.6439\n",
      "Epoch 5/200\n",
      "8057/8057 [==============================] - 39s 5ms/sample - loss: 6.6519 - val_loss: 6.4565\n",
      "Epoch 6/200\n",
      "8057/8057 [==============================] - 38s 5ms/sample - loss: 6.4824 - val_loss: 6.2206\n",
      "Epoch 7/200\n",
      "8057/8057 [==============================] - 39s 5ms/sample - loss: 6.2657 - val_loss: 5.9563\n",
      "Epoch 8/200\n",
      "8057/8057 [==============================] - 39s 5ms/sample - loss: 6.0271 - val_loss: 5.6477\n",
      "Epoch 9/200\n",
      "8057/8057 [==============================] - 40s 5ms/sample - loss: 5.7551 - val_loss: 5.3479\n",
      "Epoch 10/200\n",
      "8057/8057 [==============================] - 37s 5ms/sample - loss: 5.4657 - val_loss: 5.0378\n",
      "Epoch 11/200\n",
      "8057/8057 [==============================] - 37s 5ms/sample - loss: 5.1757 - val_loss: 4.7412\n",
      "Epoch 12/200\n",
      "8057/8057 [==============================] - 36s 5ms/sample - loss: 4.8814 - val_loss: 4.4457\n",
      "Epoch 13/200\n",
      "8057/8057 [==============================] - 39s 5ms/sample - loss: 4.5995 - val_loss: 4.1499\n",
      "Epoch 14/200\n",
      "8057/8057 [==============================] - 38s 5ms/sample - loss: 4.3312 - val_loss: 3.8869\n",
      "Epoch 15/200\n",
      "8057/8057 [==============================] - 39s 5ms/sample - loss: 4.0729 - val_loss: 3.6451\n",
      "Epoch 16/200\n",
      "8057/8057 [==============================] - 37s 5ms/sample - loss: 3.8285 - val_loss: 3.4007\n",
      "Epoch 17/200\n",
      "8057/8057 [==============================] - 40s 5ms/sample - loss: 3.5968 - val_loss: 3.1914\n",
      "Epoch 18/200\n",
      "8057/8057 [==============================] - 39s 5ms/sample - loss: 3.3779 - val_loss: 2.9817\n",
      "Epoch 19/200\n",
      "8057/8057 [==============================] - 37s 5ms/sample - loss: 3.1825 - val_loss: 2.7942\n",
      "Epoch 20/200\n",
      "8057/8057 [==============================] - 36s 5ms/sample - loss: 2.9984 - val_loss: 2.6255\n",
      "Epoch 21/200\n",
      "8057/8057 [==============================] - 38s 5ms/sample - loss: 2.8210 - val_loss: 2.4648\n",
      "Epoch 22/200\n",
      "8057/8057 [==============================] - 38s 5ms/sample - loss: 2.6613 - val_loss: 2.3086\n",
      "Epoch 23/200\n",
      "8057/8057 [==============================] - 37s 5ms/sample - loss: 2.5074 - val_loss: 2.1678\n",
      "Epoch 24/200\n",
      "8057/8057 [==============================] - 39s 5ms/sample - loss: 2.3729 - val_loss: 2.0417\n",
      "Epoch 25/200\n",
      "8057/8057 [==============================] - 37s 5ms/sample - loss: 2.2419 - val_loss: 1.9105\n",
      "Epoch 26/200\n",
      "8057/8057 [==============================] - 37s 5ms/sample - loss: 2.1116 - val_loss: 1.8072\n",
      "Epoch 27/200\n",
      "8057/8057 [==============================] - 38s 5ms/sample - loss: 1.9959 - val_loss: 1.7034\n",
      "Epoch 28/200\n",
      "8057/8057 [==============================] - 37s 5ms/sample - loss: 1.8942 - val_loss: 1.6060\n",
      "Epoch 29/200\n",
      "8057/8057 [==============================] - 37s 5ms/sample - loss: 1.7954 - val_loss: 1.5063\n",
      "Epoch 30/200\n",
      "8057/8057 [==============================] - 38s 5ms/sample - loss: 1.6948 - val_loss: 1.4128\n",
      "Epoch 31/200\n",
      "8057/8057 [==============================] - 38s 5ms/sample - loss: 1.6138 - val_loss: 1.3306\n",
      "Epoch 32/200\n",
      "8057/8057 [==============================] - 38s 5ms/sample - loss: 1.5272 - val_loss: 1.2544\n",
      "Epoch 33/200\n",
      "8057/8057 [==============================] - 37s 5ms/sample - loss: 1.4453 - val_loss: 1.1819\n",
      "Epoch 34/200\n",
      "8057/8057 [==============================] - 37s 5ms/sample - loss: 1.3706 - val_loss: 1.1217\n",
      "Epoch 35/200\n",
      "8057/8057 [==============================] - 39s 5ms/sample - loss: 1.2998 - val_loss: 1.0567\n",
      "Epoch 36/200\n",
      "8057/8057 [==============================] - 40s 5ms/sample - loss: 1.2382 - val_loss: 1.0044\n",
      "Epoch 37/200\n",
      "8057/8057 [==============================] - 40s 5ms/sample - loss: 1.1841 - val_loss: 0.9458\n",
      "Epoch 38/200\n",
      "8057/8057 [==============================] - 38s 5ms/sample - loss: 1.1237 - val_loss: 0.8926\n",
      "Epoch 39/200\n",
      "8057/8057 [==============================] - 40s 5ms/sample - loss: 1.0716 - val_loss: 0.8469\n",
      "Epoch 40/200\n",
      "8057/8057 [==============================] - 40s 5ms/sample - loss: 1.0185 - val_loss: 0.8083\n",
      "Epoch 41/200\n",
      "8057/8057 [==============================] - 39s 5ms/sample - loss: 0.9702 - val_loss: 0.7677\n",
      "Epoch 42/200\n",
      "8057/8057 [==============================] - 40s 5ms/sample - loss: 0.9198 - val_loss: 0.7238\n",
      "Epoch 43/200\n",
      "8057/8057 [==============================] - 38s 5ms/sample - loss: 0.8891 - val_loss: 0.7033\n",
      "Epoch 44/200\n",
      "8057/8057 [==============================] - 38s 5ms/sample - loss: 0.8433 - val_loss: 0.6475\n",
      "Epoch 45/200\n",
      "8057/8057 [==============================] - 40s 5ms/sample - loss: 0.8086 - val_loss: 0.6210\n",
      "Epoch 46/200\n",
      "8057/8057 [==============================] - 39s 5ms/sample - loss: 0.7739 - val_loss: 0.5958\n",
      "Epoch 47/200\n",
      "8057/8057 [==============================] - 38s 5ms/sample - loss: 0.7372 - val_loss: 0.5675\n",
      "Epoch 48/200\n",
      "8057/8057 [==============================] - 39s 5ms/sample - loss: 0.7073 - val_loss: 0.5447\n",
      "Epoch 49/200\n",
      "8057/8057 [==============================] - 39s 5ms/sample - loss: 0.6780 - val_loss: 0.5171\n",
      "Epoch 50/200\n",
      "8057/8057 [==============================] - 38s 5ms/sample - loss: 0.6497 - val_loss: 0.4922\n",
      "Epoch 51/200\n",
      "8057/8057 [==============================] - 39s 5ms/sample - loss: 0.6265 - val_loss: 0.4733\n",
      "Epoch 52/200\n",
      "8057/8057 [==============================] - 39s 5ms/sample - loss: 0.5984 - val_loss: 0.4491\n",
      "Epoch 53/200\n",
      "8057/8057 [==============================] - 39s 5ms/sample - loss: 0.5765 - val_loss: 0.4354\n",
      "Epoch 54/200\n",
      "8057/8057 [==============================] - 38s 5ms/sample - loss: 0.5524 - val_loss: 0.4192\n",
      "Epoch 55/200\n",
      "8057/8057 [==============================] - 38s 5ms/sample - loss: 0.5332 - val_loss: 0.4014\n",
      "Epoch 56/200\n",
      "8057/8057 [==============================] - 37s 5ms/sample - loss: 0.5106 - val_loss: 0.3865\n",
      "Epoch 57/200\n",
      "8057/8057 [==============================] - 36s 4ms/sample - loss: 0.4974 - val_loss: 0.3631\n",
      "Epoch 58/200\n",
      "8057/8057 [==============================] - 36s 5ms/sample - loss: 0.4823 - val_loss: 0.3526\n",
      "Epoch 59/200\n",
      "8057/8057 [==============================] - 36s 5ms/sample - loss: 0.4652 - val_loss: 0.3395\n",
      "Epoch 60/200\n",
      "8057/8057 [==============================] - 36s 5ms/sample - loss: 0.4543 - val_loss: 0.3315\n",
      "Epoch 61/200\n",
      "8057/8057 [==============================] - 39s 5ms/sample - loss: 0.4487 - val_loss: 0.3291\n",
      "Epoch 62/200\n",
      "8057/8057 [==============================] - 39s 5ms/sample - loss: 0.4329 - val_loss: 0.3149\n",
      "Epoch 63/200\n",
      "8057/8057 [==============================] - 40s 5ms/sample - loss: 0.4145 - val_loss: 0.3218\n",
      "Epoch 64/200\n",
      "8057/8057 [==============================] - 39s 5ms/sample - loss: 0.4067 - val_loss: 0.3053\n",
      "Epoch 65/200\n",
      "8057/8057 [==============================] - 39s 5ms/sample - loss: 0.3955 - val_loss: 0.2978\n",
      "Epoch 66/200\n",
      "8057/8057 [==============================] - 39s 5ms/sample - loss: 0.3933 - val_loss: 0.2824\n",
      "Epoch 67/200\n",
      "8057/8057 [==============================] - 39s 5ms/sample - loss: 0.3771 - val_loss: 0.2814\n",
      "Epoch 68/200\n",
      "8057/8057 [==============================] - 41s 5ms/sample - loss: 0.3696 - val_loss: 0.2761\n",
      "Epoch 69/200\n",
      "8057/8057 [==============================] - 40s 5ms/sample - loss: 0.3696 - val_loss: 0.2751\n",
      "Epoch 70/200\n",
      "8057/8057 [==============================] - 40s 5ms/sample - loss: 0.3583 - val_loss: 0.2734\n",
      "Epoch 71/200\n",
      "8057/8057 [==============================] - 40s 5ms/sample - loss: 0.3606 - val_loss: 0.2643\n",
      "Epoch 72/200\n",
      "8057/8057 [==============================] - 40s 5ms/sample - loss: 0.3533 - val_loss: 0.2611\n",
      "Epoch 73/200\n",
      "8057/8057 [==============================] - 39s 5ms/sample - loss: 0.3509 - val_loss: 0.2616\n",
      "Epoch 74/200\n",
      "8057/8057 [==============================] - 40s 5ms/sample - loss: 0.3430 - val_loss: 0.2547\n",
      "Epoch 75/200\n",
      "8057/8057 [==============================] - 40s 5ms/sample - loss: 0.3366 - val_loss: 0.2526\n",
      "Epoch 76/200\n",
      "8057/8057 [==============================] - 40s 5ms/sample - loss: 0.3401 - val_loss: 0.2571\n",
      "Epoch 77/200\n",
      "8057/8057 [==============================] - 38s 5ms/sample - loss: 0.3323 - val_loss: 0.2510\n",
      "Epoch 78/200\n",
      "8057/8057 [==============================] - 40s 5ms/sample - loss: 0.3325 - val_loss: 0.2519\n",
      "Epoch 79/200\n",
      "8057/8057 [==============================] - 39s 5ms/sample - loss: 0.3278 - val_loss: 0.2457\n",
      "Epoch 80/200\n",
      "8057/8057 [==============================] - 40s 5ms/sample - loss: 0.3217 - val_loss: 0.2416\n",
      "Epoch 81/200\n",
      "8057/8057 [==============================] - 40s 5ms/sample - loss: 0.3206 - val_loss: 0.2373\n",
      "Epoch 82/200\n",
      "8057/8057 [==============================] - 40s 5ms/sample - loss: 0.3152 - val_loss: 0.2399\n",
      "Epoch 83/200\n",
      "8057/8057 [==============================] - 40s 5ms/sample - loss: 0.3204 - val_loss: 0.2461\n",
      "Epoch 84/200\n",
      "8057/8057 [==============================] - 39s 5ms/sample - loss: 0.3145 - val_loss: 0.2475\n",
      "Epoch 85/200\n",
      "8057/8057 [==============================] - 40s 5ms/sample - loss: 0.3222 - val_loss: 0.2426\n"
     ]
    }
   ],
   "source": [
    "start_time = time.time()\n",
    "history = model_LSTM.fit(predictors,\n",
    "                         label,\n",
    "                         epochs=200,\n",
    "                         validation_data =(X_val, y_val),\n",
    "                         callbacks=[early_stopping])\n",
    "clear_output(wait=True)\n",
    "end_time = time.time()"
   ]
  },
  {
   "cell_type": "code",
   "execution_count": 28,
   "id": "7657a56e-1f52-4e5f-867c-04cc37477469",
   "metadata": {},
   "outputs": [
    {
     "name": "stdout",
     "output_type": "stream",
     "text": [
      "Total time: 00:54:45\n"
     ]
    }
   ],
   "source": [
    "total_time = end_time - start_time\n",
    "total_time_td = time.strftime(\"%H:%M:%S\", time.gmtime(total_time))\n",
    "print(f'Total time: {total_time_td}')"
   ]
  },
  {
   "cell_type": "code",
   "execution_count": 29,
   "id": "dae668c9-7c59-42f4-bcf9-2cafc0dcbf59",
   "metadata": {},
   "outputs": [],
   "source": [
    "model_LSTM.save('model_LSTM_valid')"
   ]
  },
  {
   "cell_type": "code",
   "execution_count": 30,
   "id": "3016322b-d6d9-4229-8445-db637b2e1087",
   "metadata": {},
   "outputs": [
    {
     "name": "stdout",
     "output_type": "stream",
     "text": [
      "Train on 8057 samples, validate on 1209 samples\n",
      "Epoch 1/200\n",
      "8057/8057 [==============================] - 35s 4ms/sample - loss: 7.6699 - val_loss: 7.1427\n",
      "Epoch 2/200\n",
      "8057/8057 [==============================] - 32s 4ms/sample - loss: 7.1036 - val_loss: 6.8872\n",
      "Epoch 3/200\n",
      "8057/8057 [==============================] - 33s 4ms/sample - loss: 6.8628 - val_loss: 6.5817\n",
      "Epoch 4/200\n",
      "8057/8057 [==============================] - 33s 4ms/sample - loss: 6.5928 - val_loss: 6.2311\n",
      "Epoch 5/200\n",
      "8057/8057 [==============================] - 33s 4ms/sample - loss: 6.2902 - val_loss: 5.8325\n",
      "Epoch 6/200\n",
      "8057/8057 [==============================] - 33s 4ms/sample - loss: 5.9404 - val_loss: 5.3321\n",
      "Epoch 7/200\n",
      "8057/8057 [==============================] - 34s 4ms/sample - loss: 5.5404 - val_loss: 4.8854\n",
      "Epoch 8/200\n",
      "8057/8057 [==============================] - 33s 4ms/sample - loss: 5.1177 - val_loss: 4.4088\n",
      "Epoch 9/200\n",
      "8057/8057 [==============================] - 33s 4ms/sample - loss: 4.6818 - val_loss: 3.9671\n",
      "Epoch 10/200\n",
      "8057/8057 [==============================] - 33s 4ms/sample - loss: 4.2491 - val_loss: 3.5258\n",
      "Epoch 11/200\n",
      "8057/8057 [==============================] - 33s 4ms/sample - loss: 3.8301 - val_loss: 3.1366\n",
      "Epoch 12/200\n",
      "8057/8057 [==============================] - 34s 4ms/sample - loss: 3.4467 - val_loss: 2.7992\n",
      "Epoch 13/200\n",
      "8057/8057 [==============================] - 34s 4ms/sample - loss: 3.0881 - val_loss: 2.4857\n",
      "Epoch 14/200\n",
      "8057/8057 [==============================] - 32s 4ms/sample - loss: 2.7815 - val_loss: 2.2439\n",
      "Epoch 15/200\n",
      "8057/8057 [==============================] - 34s 4ms/sample - loss: 2.5078 - val_loss: 2.0215\n",
      "Epoch 16/200\n",
      "8057/8057 [==============================] - 35s 4ms/sample - loss: 2.2669 - val_loss: 1.8167\n",
      "Epoch 17/200\n",
      "8057/8057 [==============================] - 35s 4ms/sample - loss: 2.0643 - val_loss: 1.6443\n",
      "Epoch 18/200\n",
      "8057/8057 [==============================] - 35s 4ms/sample - loss: 1.8782 - val_loss: 1.4913\n",
      "Epoch 19/200\n",
      "8057/8057 [==============================] - 33s 4ms/sample - loss: 1.7249 - val_loss: 1.3508\n",
      "Epoch 20/200\n",
      "8057/8057 [==============================] - 33s 4ms/sample - loss: 1.5782 - val_loss: 1.2547\n",
      "Epoch 21/200\n",
      "8057/8057 [==============================] - 35s 4ms/sample - loss: 1.4506 - val_loss: 1.1220\n",
      "Epoch 22/200\n",
      "8057/8057 [==============================] - 33s 4ms/sample - loss: 1.3372 - val_loss: 1.0422\n",
      "Epoch 23/200\n",
      "8057/8057 [==============================] - 33s 4ms/sample - loss: 1.2359 - val_loss: 0.9502\n",
      "Epoch 24/200\n",
      "8057/8057 [==============================] - 33s 4ms/sample - loss: 1.1421 - val_loss: 0.8642\n",
      "Epoch 25/200\n",
      "8057/8057 [==============================] - 33s 4ms/sample - loss: 1.0604 - val_loss: 0.7990\n",
      "Epoch 26/200\n",
      "8057/8057 [==============================] - 33s 4ms/sample - loss: 0.9874 - val_loss: 0.7474\n",
      "Epoch 27/200\n",
      "8057/8057 [==============================] - 33s 4ms/sample - loss: 0.9234 - val_loss: 0.6837\n",
      "Epoch 28/200\n",
      "8057/8057 [==============================] - 33s 4ms/sample - loss: 0.8491 - val_loss: 0.6353\n",
      "Epoch 29/200\n",
      "8057/8057 [==============================] - 34s 4ms/sample - loss: 0.7979 - val_loss: 0.5882\n",
      "Epoch 30/200\n",
      "8057/8057 [==============================] - 33s 4ms/sample - loss: 0.7484 - val_loss: 0.5390\n",
      "Epoch 31/200\n",
      "8057/8057 [==============================] - 33s 4ms/sample - loss: 0.7014 - val_loss: 0.5049\n",
      "Epoch 32/200\n",
      "8057/8057 [==============================] - 33s 4ms/sample - loss: 0.6583 - val_loss: 0.4883\n",
      "Epoch 33/200\n",
      "8057/8057 [==============================] - 33s 4ms/sample - loss: 0.6119 - val_loss: 0.4410\n",
      "Epoch 34/200\n",
      "8057/8057 [==============================] - 33s 4ms/sample - loss: 0.5839 - val_loss: 0.4194\n",
      "Epoch 35/200\n",
      "8057/8057 [==============================] - 33s 4ms/sample - loss: 0.5527 - val_loss: 0.3996\n",
      "Epoch 36/200\n",
      "8057/8057 [==============================] - 33s 4ms/sample - loss: 0.5286 - val_loss: 0.3801\n",
      "Epoch 37/200\n",
      "8057/8057 [==============================] - 33s 4ms/sample - loss: 0.4990 - val_loss: 0.3571\n",
      "Epoch 38/200\n",
      "8057/8057 [==============================] - 33s 4ms/sample - loss: 0.4787 - val_loss: 0.3435\n",
      "Epoch 39/200\n",
      "8057/8057 [==============================] - 33s 4ms/sample - loss: 0.4541 - val_loss: 0.3306\n",
      "Epoch 40/200\n",
      "8057/8057 [==============================] - 34s 4ms/sample - loss: 0.4410 - val_loss: 0.3128\n",
      "Epoch 41/200\n",
      "8057/8057 [==============================] - 33s 4ms/sample - loss: 0.4267 - val_loss: 0.3100\n",
      "Epoch 42/200\n",
      "8057/8057 [==============================] - 34s 4ms/sample - loss: 0.4195 - val_loss: 0.2983\n",
      "Epoch 43/200\n",
      "8057/8057 [==============================] - 34s 4ms/sample - loss: 0.4034 - val_loss: 0.2893\n",
      "Epoch 44/200\n",
      "8057/8057 [==============================] - 34s 4ms/sample - loss: 0.3984 - val_loss: 0.2838\n",
      "Epoch 45/200\n",
      "8057/8057 [==============================] - 34s 4ms/sample - loss: 0.3880 - val_loss: 0.2789\n",
      "Epoch 46/200\n",
      "8057/8057 [==============================] - 33s 4ms/sample - loss: 0.3805 - val_loss: 0.2712\n",
      "Epoch 47/200\n",
      "8057/8057 [==============================] - 33s 4ms/sample - loss: 0.3763 - val_loss: 0.2765\n",
      "Epoch 48/200\n",
      "8057/8057 [==============================] - 34s 4ms/sample - loss: 0.3711 - val_loss: 0.2688\n",
      "Epoch 49/200\n",
      "8057/8057 [==============================] - 34s 4ms/sample - loss: 0.3700 - val_loss: 0.2719\n",
      "Epoch 50/200\n",
      "8057/8057 [==============================] - 34s 4ms/sample - loss: 0.3639 - val_loss: 0.2711\n",
      "Epoch 51/200\n",
      "8057/8057 [==============================] - 33s 4ms/sample - loss: 0.3641 - val_loss: 0.2682\n"
     ]
    }
   ],
   "source": [
    "start_time = time.time()\n",
    "history = model_GRU.fit(predictors,\n",
    "                        label,\n",
    "                        epochs=200,\n",
    "                        validation_data =(X_val, y_val),\n",
    "                        callbacks=[early_stopping])\n",
    "clear_output(wait=True)\n",
    "end_time = time.time()"
   ]
  },
  {
   "cell_type": "code",
   "execution_count": 31,
   "id": "287b7847-f097-4d29-8009-eaae1bfd6042",
   "metadata": {},
   "outputs": [
    {
     "name": "stdout",
     "output_type": "stream",
     "text": [
      "Total time: 00:28:23\n"
     ]
    }
   ],
   "source": [
    "total_time = end_time - start_time\n",
    "total_time_td = time.strftime(\"%H:%M:%S\", time.gmtime(total_time))\n",
    "print(f'Total time: {total_time_td}')"
   ]
  },
  {
   "cell_type": "code",
   "execution_count": 32,
   "id": "37d7ef1b-75f8-48a6-aaaa-39ec4bafabbc",
   "metadata": {},
   "outputs": [],
   "source": [
    "model_GRU.save('model_GRU')"
   ]
  },
  {
   "cell_type": "markdown",
   "id": "23755eaa-862a-4d92-97f6-04e562ed48e8",
   "metadata": {},
   "source": [
    "## Compare models"
   ]
  },
  {
   "cell_type": "code",
   "execution_count": 36,
   "id": "e3e41c47-d287-4cc2-9227-de61e4f68f3e",
   "metadata": {},
   "outputs": [
    {
     "name": "stdout",
     "output_type": "stream",
     "text": [
      "dict_keys(['loss', 'val_loss'])\n"
     ]
    }
   ],
   "source": [
    "print(model_RNN.history.history.keys())"
   ]
  },
  {
   "cell_type": "code",
   "execution_count": 41,
   "id": "791b2dc1-9028-44bf-ab84-96fa8101ff45",
   "metadata": {},
   "outputs": [],
   "source": [
    "loss_RNN = model_RNN.history.history['loss'][-1]\n",
    "val_loss_RNN = model_RNN.history.history['val_loss'][-1]\n",
    "loss_LSTM = model_LSTM.history.history['loss'][-1]\n",
    "val_loss_LSTM = model_LSTM.history.history['val_loss'][-1]\n",
    "loss_GRU = model_GRU.history.history['loss'][-1]\n",
    "val_loss_GRU = model_GRU.history.history['val_loss'][-1]"
   ]
  },
  {
   "cell_type": "code",
   "execution_count": 42,
   "id": "37261033-d07a-4200-a6f5-165669b226fa",
   "metadata": {},
   "outputs": [
    {
     "name": "stdout",
     "output_type": "stream",
     "text": [
      "RNN loss: 0.367\n",
      "RNN val loss: 0.274\n",
      "LSTM : 0.322\n",
      "LSTM val loss: 0.243\n",
      "GRU : 0.364\n",
      "GRU val loss: 0.268\n"
     ]
    }
   ],
   "source": [
    "print(f'RNN loss: {loss_RNN:.3f}')\n",
    "print(f'RNN val loss: {val_loss_RNN:.3f}')\n",
    "print(f'LSTM : {loss_LSTM:.3f}')\n",
    "print(f'LSTM val loss: {val_loss_LSTM:.3f}')\n",
    "print(f'GRU : {loss_GRU:.3f}')\n",
    "print(f'GRU val loss: {val_loss_GRU:.3f}')"
   ]
  },
  {
   "cell_type": "code",
   "execution_count": 43,
   "id": "41ab6ee0-5401-4b09-be71-4f181abe6391",
   "metadata": {},
   "outputs": [],
   "source": [
    "loss_RNN = model_RNN.history.history['loss']\n",
    "val_loss_RNN = model_RNN.history.history['val_loss']\n",
    "loss_LSTM = model_LSTM.history.history['loss']\n",
    "val_loss_LSTM = model_LSTM.history.history['val_loss']\n",
    "loss_GRU = model_GRU.history.history['loss']\n",
    "val_loss_GRU = model_GRU.history.history['val_loss']"
   ]
  },
  {
   "cell_type": "code",
   "execution_count": 51,
   "id": "323115f3-f450-4e2d-b878-ef20c1dc0520",
   "metadata": {},
   "outputs": [
    {
     "data": {
      "image/png": "[encoded data removed]",
      "text/plain": [
       "<Figure size 1200x600 with 1 Axes>"
      ]
     },
     "metadata": {},
     "output_type": "display_data"
    }
   ],
   "source": [
    "epochs = range(1, len(loss_RNN) + 1)\n",
    "\n",
    "plt.figure(figsize=(12, 6))\n",
    "plt.plot(epochs, loss_RNN, 'b', label='RNN Training Loss')\n",
    "plt.plot(epochs, val_loss_RNN, 'r', label='RNN Valid Loss')\n",
    "plt.title('RNN Loss')\n",
    "plt.xlabel('Epochs')\n",
    "plt.ylabel('Loss')\n",
    "plt.legend()\n",
    "plt.show()"
   ]
  },
  {
   "cell_type": "code",
   "execution_count": 54,
   "id": "839f013a-2640-41c7-b1a5-62f3c7862113",
   "metadata": {},
   "outputs": [
    {
     "data": {
      "image/png": "[encoded data removed]",
      "text/plain": [
       "<Figure size 1200x600 with 1 Axes>"
      ]
     },
     "metadata": {},
     "output_type": "display_data"
    }
   ],
   "source": [
    "epochs = range(1, len(loss_LSTM) + 1)\n",
    "\n",
    "plt.figure(figsize=(12, 6))\n",
    "plt.plot(epochs, loss_LSTM, 'b', label='LSTM Training Loss')\n",
    "plt.plot(epochs, val_loss_LSTM, 'r', label='LSTM Valid Loss')\n",
    "plt.title('LSTM Loss')\n",
    "plt.xlabel('Epochs')\n",
    "plt.ylabel('Loss')\n",
    "plt.legend()\n",
    "plt.show()"
   ]
  },
  {
   "cell_type": "code",
   "execution_count": 55,
   "id": "d774a94a-3ad0-4eea-a5f1-0c06097a1ee9",
   "metadata": {},
   "outputs": [
    {
     "data": {
      "image/png": "[encoded data removed]",
      "text/plain": [
       "<Figure size 1200x600 with 1 Axes>"
      ]
     },
     "metadata": {},
     "output_type": "display_data"
    }
   ],
   "source": [
    "epochs = range(1, len(loss_GRU) + 1)\n",
    "\n",
    "plt.figure(figsize=(12, 6))\n",
    "plt.plot(epochs, loss_GRU, 'b', label='GRU Training Loss')\n",
    "plt.plot(epochs, val_loss_GRU, 'r', label='GRU Valid Loss')\n",
    "plt.title('GRU Loss')\n",
    "plt.xlabel('Epochs')\n",
    "plt.ylabel('Loss')\n",
    "plt.legend()\n",
    "plt.show()"
   ]
  },
  {
   "cell_type": "code",
   "execution_count": 56,
   "id": "538c189b-f1b8-43e7-af40-95cbeeac03fc",
   "metadata": {},
   "outputs": [
    {
     "name": "stdout",
     "output_type": "stream",
     "text": [
      "1209/1209 [==============================] - 1s 823us/sample - loss: 0.3441\n",
      "1209/1209 [==============================] - 1s 1ms/sample - loss: 0.2973\n",
      "1209/1209 [==============================] - 2s 1ms/sample - loss: 0.3379\n"
     ]
    }
   ],
   "source": [
    "test_loss_RNN = model_RNN.evaluate(X_test, y_test)\n",
    "test_loss_LSTM = model_LSTM.evaluate(X_test, y_test)\n",
    "test_loss_GRU = model_GRU.evaluate(X_test, y_test)"
   ]
  },
  {
   "cell_type": "markdown",
   "id": "34d76141-6c32-459e-bfbc-1812ed5668f2",
   "metadata": {},
   "source": [
    "## Generating the text"
   ]
  },
  {
   "cell_type": "code",
   "execution_count": 57,
   "id": "78b63b1e-f053-4990-bb08-948bb2123b9d",
   "metadata": {},
   "outputs": [],
   "source": [
    "def generate_text(seed_text, next_words, model, max_sequence_len):\n",
    "    for _ in range(next_words):\n",
    "        token_list = tokenizer.texts_to_sequences([seed_text])[0]\n",
    "        token_list = pad_sequences([token_list], maxlen=max_sequence_len-1, padding='pre')\n",
    "        predicted = model.predict_classes(token_list, verbose=0)\n",
    "        \n",
    "        output_word = \"\"\n",
    "        for word,index in tokenizer.word_index.items():\n",
    "            if index == predicted:\n",
    "                output_word = word\n",
    "                break\n",
    "        seed_text += \" \"+output_word\n",
    "    return seed_text.title()"
   ]
  },
  {
   "cell_type": "code",
   "execution_count": 59,
   "id": "ea641906-33d7-4064-b61c-32d8a37862f8",
   "metadata": {},
   "outputs": [
    {
     "name": "stdout",
     "output_type": "stream",
     "text": [
      "RNN\n",
      "Jack  You Cant Put Frederick Douglass\n",
      "\n",
      "\n",
      "LSTM\n",
      "Jack  Concerns Rebels Backed By Turkey\n",
      "\n",
      "\n",
      "GRU\n",
      "Jack  You Cant Put Frederick Douglass\n"
     ]
    }
   ],
   "source": [
    "print('RNN')\n",
    "print (generate_text(\"jack \", 5, model_RNN, max_sequence_len))\n",
    "print('\\n')\n",
    "print('LSTM')\n",
    "print (generate_text(\"jack \", 5, model_LSTM, max_sequence_len))\n",
    "print('\\n')\n",
    "print('GRU')\n",
    "print (generate_text(\"jack \", 5, model_RNN, max_sequence_len))"
   ]
  },
  {
   "cell_type": "code",
   "execution_count": 60,
   "id": "6be65f16-a93d-47b4-94b1-313421e530cb",
   "metadata": {},
   "outputs": [
    {
     "name": "stdout",
     "output_type": "stream",
     "text": [
      "RNN\n",
      "President Trump Tv Commentator As His Economic\n",
      "\n",
      "\n",
      "LSTM\n",
      "President Trump Scrambles To Cancel Dining Set\n",
      "\n",
      "\n",
      "GRU\n",
      "President Trump Tv Commentator As His Economic\n"
     ]
    }
   ],
   "source": [
    "print('RNN')\n",
    "print (generate_text(\"president trump\", 5, model_RNN, max_sequence_len))\n",
    "print('\\n')\n",
    "print('LSTM')\n",
    "print (generate_text(\"president trump\", 5, model_LSTM, max_sequence_len))\n",
    "print('\\n')\n",
    "print('GRU')\n",
    "print (generate_text(\"president trump\", 5, model_RNN, max_sequence_len))"
   ]
  },
  {
   "cell_type": "code",
   "execution_count": 61,
   "id": "9a0a2239-dc3b-407c-a0b6-85ae0598ce3a",
   "metadata": {},
   "outputs": [
    {
     "name": "stdout",
     "output_type": "stream",
     "text": [
      "RNN\n",
      "India And China Levine And Learning To Cuomo\n",
      "\n",
      "\n",
      "LSTM\n",
      "India And China And A Pro To Get\n",
      "\n",
      "\n",
      "GRU\n",
      "India And China Levine And Learning To Cuomo\n"
     ]
    }
   ],
   "source": [
    "print('RNN')\n",
    "print (generate_text(\"india and china\", 5, model_RNN, max_sequence_len))\n",
    "print('\\n')\n",
    "print('LSTM')\n",
    "print (generate_text(\"india and china\", 5, model_LSTM, max_sequence_len))\n",
    "print('\\n')\n",
    "print('GRU')\n",
    "print (generate_text(\"india and china\", 5, model_RNN, max_sequence_len))"
   ]
  },
  {
   "cell_type": "code",
   "execution_count": 62,
   "id": "31b4613c-715f-4751-acc1-bf8e1468aa0e",
   "metadata": {},
   "outputs": [
    {
     "name": "stdout",
     "output_type": "stream",
     "text": [
      "RNN\n",
      "Science And Technology Loss In Russia Trial Of\n",
      "\n",
      "\n",
      "LSTM\n",
      "Science And Technology Right Next Door To Help\n",
      "\n",
      "\n",
      "GRU\n",
      "Science And Technology Loss In Russia Trial Of\n"
     ]
    }
   ],
   "source": [
    "print('RNN')\n",
    "print (generate_text(\"science and technology\", 5, model_RNN, max_sequence_len))\n",
    "print('\\n')\n",
    "print('LSTM')\n",
    "print (generate_text(\"science and technology\", 5, model_LSTM, max_sequence_len))\n",
    "print('\\n')\n",
    "print('GRU')\n",
    "print (generate_text(\"science and technology\", 5, model_RNN, max_sequence_len))"
   ]
  },
  {
   "cell_type": "code",
   "execution_count": null,
   "id": "96583ff8-59ea-421a-9fe9-4606b918ecfc",
   "metadata": {},
   "outputs": [],
   "source": []
  }
 ],
 "metadata": {
  "kernelspec": {
   "display_name": "Python 3 (ipykernel)",
   "language": "python",
   "name": "python3"
  },
  "language_info": {
   "codemirror_mode": {
    "name": "ipython",
    "version": 3
   },
   "file_extension": ".py",
   "mimetype": "text/x-python",
   "name": "python",
   "nbconvert_exporter": "python",
   "pygments_lexer": "ipython3",
   "version": "3.7.16"
  }
 },
 "nbformat": 4,
 "nbformat_minor": 5
}
