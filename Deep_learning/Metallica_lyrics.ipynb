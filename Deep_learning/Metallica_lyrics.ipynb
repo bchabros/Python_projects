{
 "cells": [
  {
   "cell_type": "markdown",
   "id": "5b7f7e83-26f8-41b8-97ce-62b6a99fc58c",
   "metadata": {},
   "source": [
    "# Using deep learning and tensorflow to generate new song lyrics in the style of Metallica\n",
    "\n",
    "https://pieriantraining.com/tensorflow-weezer-lyrics/?utm_source=udemy&utm_medium=referral&utm_campaign=site_live_announcement"
   ]
  },
  {
   "cell_type": "code",
   "execution_count": null,
   "id": "e3fd48a4-ecd9-4c9a-876b-2496df6e5e48",
   "metadata": {},
   "outputs": [],
   "source": [
    "import numpy as np\n",
    "\n",
    "import tensorflow as tf\n",
    "\n",
    "from tensorflow.keras.models import Sequential\n",
    "from tensorflow.keras.layers import LSTM,Dense,Embedding,Dropout,GRU"
   ]
  },
  {
   "cell_type": "code",
   "execution_count": 5,
   "id": "1e447408-9734-4e8a-ab1f-fc2130bdac33",
   "metadata": {},
   "outputs": [],
   "source": [
    "from lyricsgenius import Genius\n",
    "genius = Genius('brRGxz7oxSEQMBXhlYkJEeFInwAXZG6Ow5jNzUEw9Leemlecmw_M9QCYU6E3zZp6')"
   ]
  },
  {
   "cell_type": "code",
   "execution_count": 6,
   "id": "ce030b5b-9717-41cb-89e1-29379fad1cc9",
   "metadata": {},
   "outputs": [
    {
     "name": "stdout",
     "output_type": "stream",
     "text": [
      "Searching for songs by Metallica...\n",
      "\n",
      "Song 1: \"Nothing Else Matters\"\n",
      "Song 2: \"One\"\n",
      "Song 3: \"Enter Sandman\"\n",
      "Song 4: \"Master of Puppets\"\n",
      "Song 5: \"The Unforgiven\"\n",
      "Song 6: \"Fade to Black\"\n",
      "Song 7: \"For Whom the Bell Tolls\"\n",
      "Song 8: \"Creeping Death\"\n",
      "Song 9: \"Sad But True\"\n",
      "Song 10: \"Welcome Home (Sanitarium)\"\n",
      "Song 11: \"...And Justice for All\"\n",
      "Song 12: \"Wherever I May Roam\"\n",
      "Song 13: \"Battery\"\n",
      "Song 14: \"The Unforgiven II\"\n",
      "Song 15: \"Blackened\"\n",
      "Song 16: \"Ride the Lightning\"\n",
      "Song 17: \"The Four Horsemen\"\n",
      "Song 18: \"Seek & Destroy\"\n",
      "Song 19: \"Dyers Eve\"\n",
      "Song 20: \"Whiplash\"\n",
      "Song 21: \"Turn the Page\"\n",
      "Song 22: \"The Unforgiven III\"\n",
      "Song 23: \"Atlas, Rise!\"\n",
      "Song 24: \"Fuel\"\n",
      "Song 25: \"Disposable Heroes\"\n",
      "Song 26: \"The Day That Never Comes\"\n",
      "Song 27: \"Whiskey in the Jar\"\n",
      "Song 28: \"To Live Is to Die\"\n",
      "Song 29: \"St. Anger\"\n",
      "Song 30: \"Harvester of Sorrow\"\n",
      "Song 31: \"Eye of the Beholder\"\n",
      "Song 32: \"The Thing That Should Not Be\"\n",
      "Song 33: \"Don’t Tread on Me\"\n",
      "Song 34: \"Hardwired\"\n",
      "Couldn't find the lyrics section. Please report this if the song has lyrics.\n",
      "Song URL: https://genius.com/Metallica-orion-lyrics\n",
      "Song 35: \"Orion\"\n",
      "Song 36: \"Until It Sleeps\"\n",
      "Song 37: \"Leper Messiah\"\n",
      "Song 38: \"King Nothing\"\n",
      "Song 39: \"Moth Into Flame\"\n",
      "Song 40: \"Am I Evil?\"\n",
      "Song 41: \"No Leaf Clover\"\n",
      "Song 42: \"Spit Out the Bone\"\n",
      "Song 43: \"Mama Said\"\n",
      "Song 44: \"Damage, Inc.\"\n",
      "Song 45: \"The God That Failed\"\n",
      "Song 46: \"Fight Fire with Fire\"\n",
      "Song 47: \"Now That We’re Dead\"\n",
      "Song 48: \"The Shortest Straw\"\n",
      "Song 49: \"The Memory Remains\"\n",
      "Song 50: \"Hero of the Day\"\n",
      "Song 51: \"Escape\"\n",
      "Couldn't find the lyrics section. Please report this if the song has lyrics.\n",
      "Song URL: https://genius.com/Metallica-the-call-of-ktulu-lyrics\n",
      "Song 52: \"The Call of Ktulu\"\n",
      "Song 53: \"The Frayed Ends of Sanity\"\n",
      "Song 54: \"My Friend of Misery\"\n",
      "Song 55: \"Halo on Fire\"\n",
      "Song 56: \"Hit the Lights\"\n",
      "Song 57: \"Motorbreath\"\n",
      "Song 58: \"So What?\"\n",
      "Song 59: \"Of Wolf and Man\"\n",
      "Song 60: \"Trapped Under Ice\"\n",
      "Song 61: \"Bleeding Me\"\n",
      "Song 62: \"All Nightmare Long\"\n",
      "Song 63: \"The Outlaw Torn\"\n",
      "Song 64: \"Dream No More\"\n",
      "Song 65: \"No Remorse\"\n",
      "Song 66: \"Through the Never\"\n",
      "Song 67: \"Holier Than Thou\"\n",
      "Song 68: \"Ain’t My Bitch\"\n",
      "Song 69: \"Frantic\"\n",
      "Song 70: \"Jump in the Fire\"\n",
      "Song 71: \"Murder One\"\n",
      "Song 72: \"Here Comes Revenge\"\n",
      "Song 73: \"Low Man’s Lyric\"\n",
      "Song 74: \"The House Jack Built\"\n",
      "Song 75: \"That Was Just Your Life\"\n",
      "Song 76: \"All Within My Hands\"\n",
      "Song 77: \"Metal Militia\"\n",
      "Song 78: \"Am I Savage?\"\n",
      "Song 79: \"Wasting My Hate\"\n",
      "Song 80: \"Phantom Lord\"\n",
      "Song 81: \"ManUNkind\"\n",
      "Song 82: \"Confusion\"\n",
      "Song 83: \"Loverman\"\n",
      "Song 84: \"Fixxxer\"\n",
      "Song 85: \"The Struggle Within\"\n",
      "Song 86: \"The Unnamed Feeling\"\n",
      "Song 87: \"(Anesthesia)—Pulling Teeth\"\n",
      "Song 88: \"Cyanide\"\n",
      "Song 89: \"I Disappear\"\n",
      "Song 90: \"Some Kind of Monster\"\n",
      "Song 91: \"Devil’s Dance\"\n",
      "Song 92: \"2 X 4\"\n",
      "Song 93: \"Broken, Beat & Scarred\"\n",
      "Song 94: \"Die, Die My Darling\"\n",
      "Song 95: \"Last Caress / Green Hell\"\n",
      "Song 96: \"The End of the Line\"\n",
      "Song 97: \"Ronnie\"\n",
      "Song 98: \"Astronomy\"\n",
      "Song 99: \"The Judas Kiss\"\n",
      "Song 100: \"Lords of Summer\"\n",
      "Song 101: \"Sweet Amber\"\n",
      "Song 102: \"Invisible Kid\"\n",
      "Song 103: \"My Apocalypse\"\n",
      "Song 104: \"Breadfan\"\n",
      "Song 105: \"Dirty Window\"\n",
      "Song 106: \"Carpe Diem Baby\"\n",
      "Song 107: \"The Small Hours\"\n",
      "Song 108: \"Blitzkrieg\"\n",
      "Song 109: \"Where the Wild Things Are\"\n",
      "Song 110: \"- Human\"\n",
      "Song 111: \"Prince Charming\"\n",
      "Song 112: \"Mercyful Fate\"\n",
      "Song 113: \"Cure\"\n",
      "Song 114: \"When a Blind Man Cries\"\n",
      "Song 115: \"Jump in the Fire (Demo)\"\n",
      "Song 116: \"The Mechanix\"\n",
      "Song 117: \"Thorn Within\"\n",
      "Song 118: \"Stone Cold Crazy\"\n",
      "Song 119: \"My World\"\n",
      "Song 120: \"Tuesday’s Gone\"\n",
      "Song 121: \"Shoot Me Again\"\n",
      "Song 122: \"Just a Bullet Away\"\n",
      "Song 123: \"Sabbra Cadabra\"\n",
      "\"Metallica Interview\" is not valid. Skipping.\n",
      "Song 124: \"Free Speech for the Dumb\"\n",
      "Song 125: \"Ronnie Rising Medley: A Light In the Black / Tarot Woman / Stargazer / Kill the King\"\n",
      "Song 126: \"Better Than You\"\n",
      "Song 127: \"Bad Seed\"\n",
      "Couldn't find the lyrics section. Please report this if the song has lyrics.\n",
      "Song URL: https://genius.com/Metallica-suicide-and-redemption-lyrics\n",
      "Song 128: \"Suicide & Redemption\"\n",
      "Song 129: \"Purify\"\n",
      "Song 130: \"Hate Train\"\n",
      "Song 131: \"Helpless\"\n",
      "Song 132: \"Poor Twisted Me\"\n",
      "Song 133: \"Slither\"\n",
      "Song 134: \"The Wait\"\n",
      "Song 135: \"Attitude\"\n",
      "Song 136: \"Rebel of Babylon\"\n",
      "Song 137: \"Crash Course in Brain Surgery\"\n",
      "Song 138: \"Remember Tomorrow\"\n",
      "Song 139: \"The Prince\"\n",
      "Song 140: \"It’s Electric\"\n",
      "Song 141: \"Unforgiven II (Demo)\"\n",
      "Song 142: \"Hell and Back\"\n",
      "Song 143: \"The More I See\"\n",
      "Song 144: \"Fuel for Fire\"\n",
      "Song 145: \"Killing Time\"\n",
      "Couldn't find the lyrics section. Please report this if the song has lyrics.\n",
      "Song URL: https://genius.com/Metallica-the-ecstasy-of-gold-lyrics\n",
      "Song 146: \"The Ecstasy of Gold\"\n",
      "Song 147: \"Nothing Else Matters (Live with the SFSO)\"\n",
      "Song 148: \"Overkill\"\n",
      "Song 149: \"Master of Puppets (Live with the SFSO)\"\n",
      "Song 150: \"Damage Case\"\n",
      "Song 151: \"Too Late Too Late\"\n",
      "Song 152: \"Hero of the Day (Live with the SFSO)\"\n",
      "Song 153: \"Justice Medley\"\n",
      "Song 154: \"Enter Sandman (Live with the SFSO)\"\n",
      "Song 155: \"Stone Dead Forever\"\n",
      "Song 156: \"Seek & Destroy [No Life ’Til Leather]\"\n",
      "Song 157: \"Bleeding Me (Live with the SFSO)\"\n",
      "Song 158: \"For Whom the Bell Tolls (Live with the SFSO)\"\n",
      "Song 159: \"Sucking My Love\"\n",
      "Song 160: \"The Thing That Should Not Be (Live with the SFSO)\"\n",
      "Song 161: \"The Memory Remains (Live with the SFSO)\"\n",
      "Song 162: \"Flamingo (”All Nightmare Long” demo)\"\n",
      "Song 163: \"One (Live with the SFSO)\"\n",
      "Song 164: \"Only Thing (Demo)\"\n",
      "Song 165: \"Iron Man\"\n",
      "Song 166: \"Brothers in Arms\"\n",
      "Song 167: \"The Ecstasy of Gold / Enter Sandman (Live)\"\n",
      "Song 168: \"Devil’s Dance (Live with the SFSO)\"\n",
      "Song 169: \"Of Wolf and Man (Live With the SFSO)\"\n",
      "Song 170: \"Wherever I May Roam (Live with the SFSO)\"\n",
      "Song 171: \"Paranoid\"\n",
      "Song 172: \"Fuel (Live with the SFSO)\"\n",
      "Song 173: \"Until It Sleeps (Live With the SFSO)\"\n",
      "Song 174: \"Last Caress\"\n",
      "Song 175: \"Hit the Lights [No Life ’Til Leather]\"\n",
      "Song 176: \"Some Kind of Monster - Film Transcript\"\n",
      "Song 177: \"53rd & 3rd\"\n",
      "Song 178: \"So What? (Live)\"\n",
      "Song 179: \"Only Happy When It Rains\"\n",
      "Song 180: \"Blackened 2020\"\n",
      "Couldn't find the lyrics section. Please report this if the song has lyrics.\n",
      "Song URL: https://genius.com/Metallica-and-san-francisco-symphony-the-ecstasy-of-gold-live-lyrics\n",
      "Song 181: \"Black Squirrel (”Broken, Beat & Scarred” demo)\"\n",
      "Song 182: \"The Call of Ktulu (Live with the SFSO)\"\n",
      "Song 183: \"The Outlaw Torn (Live with the SFSO)\"\n",
      "Song 184: \"The New Song\"\n",
      "Song 185: \"For Whom The Bell Tolls (The Irony Of It All)\"\n",
      "Song 186: \"We’re a Happy Family\"\n",
      "Song 187: \"Hi Guy (”That Was Just Your Life” demo)\"\n",
      "Song 188: \"Please Don’t Judas Me\"\n",
      "Song 189: \"Casper (”The Day That Never Comes” demo)\"\n",
      "Song 190: \"Mine Eyes\"\n",
      "Song 191: \"Seek and Destroy- Live\"\n",
      "Song 192: \"Temptation\"\n",
      "Song 193: \"UN3 (”The Unforgiven III” demo)\"\n",
      "Song 194: \"Battery (Live with the SFSO)\"\n",
      "Song 195: \"Today Your Love, Tomorrow the World\"\n",
      "Song 196: \"Mastertarium\"\n",
      "Song 197: \"Veteran of the Psychic Wars\"\n",
      "Song 198: \"Dead Kennedy Rolls\"\n",
      "Song 199: \"Kill/Ride Medley\"\n",
      "Song 200: \"German Soup (”Cyanide” demo)\"\n",
      "\n",
      "Reached user-specified song limit (200).\n",
      "Done. Found 200 songs.\n"
     ]
    }
   ],
   "source": [
    "artist = genius.search_artist(artist_name='Metallica',\n",
    "                              max_songs=200)"
   ]
  },
  {
   "cell_type": "code",
   "execution_count": 7,
   "id": "4af0a6c8-94e6-40bc-bfdb-d7981515a940",
   "metadata": {},
   "outputs": [
    {
     "name": "stdout",
     "output_type": "stream",
     "text": [
      "Wrote Metallica200.json.\n"
     ]
    }
   ],
   "source": [
    "artist.save_lyrics('Metallica200.json')"
   ]
  },
  {
   "cell_type": "code",
   "execution_count": 23,
   "id": "34f9a6f8-b9e9-4fe2-977b-d6368f636b1b",
   "metadata": {},
   "outputs": [
    {
     "name": "stdout",
     "output_type": "stream",
     "text": [
      "My Friend of Misery Lyrics[Verse 1]\n",
      "You just stood there screaming\n",
      "Fearing no one was listening to you\n",
      "They say the empty can rattles the most\n",
      "The sound of your own voice must soothe you\n",
      "Hearing only what you want to hear\n",
      "And knowing only what you've heard\n",
      "You, you're smothered in tragedy\n",
      "And you're out to save the world\n",
      "\n",
      "[Chorus]\n",
      "Misery\n",
      "You insist that the weight of the world\n",
      "Should be on your shoulders\n",
      "Misery\n",
      "There's much more to life than what you see\n",
      "My friend of misery\n",
      "[Verse 2]\n",
      "You still stood there screaming\n",
      "No one caring about these words you tell\n",
      "My friend, before your voice is gone\n",
      "One man's fun is another's hell\n",
      "These times are sent to try men's souls\n",
      "But something's wrong with all you see\n",
      "You, you'll take it on all yourself\n",
      "Remember, misery loves company\n",
      "\n",
      "[Chorus]\n",
      "Misery\n",
      "You insist that the weight of the world\n",
      "Should be on your shoulders\n",
      "Misery\n",
      "There's much more to life than what you see\n",
      "My friend of misery\n",
      "My friend of misery\n",
      "\n",
      "[Bass Solo: Jason Newsted]\n",
      "\n",
      "[Dual Guitar Solo: Kirk Hammett & James Hetfield]\n",
      "\n",
      "[Chorus]\n",
      "Misery\n",
      "You insist that the weight of the world\n",
      "Should be on your shoulders\n",
      "Misery\n",
      "There's much more to life than what you see\n",
      "My friend of misery\n",
      "[Outro]\n",
      "You just stood there screaming, oh\n",
      "My friend of misery\n",
      "Yeah, yeah, yo13Embed\n",
      "Halo on Fire Lyrics[Verse 1]\n",
      "Obey, obey\n",
      "Come won't you stay\n",
      "Sincere, sincere\n",
      "All ends in tears\n",
      "Endure, endure\n",
      "Thoughts most impure\n",
      "Concede, concede\n",
      "But both shall we bleed\n",
      "\n",
      "[Chorus]\n",
      "Oh, Halo on fire\n",
      "The midnight knows it well\n",
      "Fast, is desire\n",
      "Creates another hell\n",
      "I fear to turn on the light\n",
      "For the darkness won't go away\n",
      "Fast, is desire\n",
      "Turn out the light\n",
      "Halo on fire\n",
      "[Verse 2]\n",
      "Allure, allure\n",
      "Sweetness obscure\n",
      "Abide, abide\n",
      "Secrets inside\n",
      "Deprive, deprive\n",
      "To feel so alive\n",
      "Obey, obey\n",
      "Just don't turn away\n",
      "\n",
      "[Chorus]\n",
      "Oh, Halo on fire\n",
      "The midnight knows it well\n",
      "Fast, is desire\n",
      "Creates another hell\n",
      "I fear to turn on the light\n",
      "For the darkness won't go away\n",
      "Fast, is desire\n",
      "Turn out the light\n",
      "Halo on fire\n",
      "\n",
      "[Bridge]\n",
      "Prayers cannot get through\n",
      "Return to sender\n",
      "Unto which of you\n",
      "Shall I surrender\n",
      "Twisting in disguise\n",
      "Dark resurrection\n",
      "Lighting up the skies\n",
      "Wicked perfection\n",
      "Too dark to sleep\n",
      "Can't slip away\n",
      "Open or close\n",
      "My eyes betray\n",
      "Beyond the black\n",
      "Come won't you stay\n",
      "\n",
      "[Outro]\n",
      "Hello darkness, say goodbye\n",
      "Hello darkness, say goodbye\n",
      "Hello darkness, say goodbye13Embed\n",
      "Hit the Lights Lyrics[Verse 1]\n",
      "No life ‘til leather\n",
      "We're gonna kick some ass tonight\n",
      "We got the metal madness\n",
      "When our fans start screaming it's right\n",
      "Well alright, yeah\n",
      "\n",
      "[Pre-Chorus]\n",
      "When we start to rock\n",
      "We never wanna stop again\n",
      "[Chorus]\n",
      "Hit the lights!\n",
      "Hit the lights!\n",
      "Hit the lights!\n",
      "\n",
      "[Verse 2]\n",
      "You know our fans are insane\n",
      "We're gonna blow this place away\n",
      "With volume higher\n",
      "Than anything today\n",
      "The only way, yeah\n",
      "\n",
      "[Pre-Chorus]\n",
      "When we start to rock\n",
      "We never wanna stop again\n",
      "\n",
      "[Chorus]\n",
      "Hit the lights!\n",
      "Hit the lights!\n",
      "Hit the lights!\n",
      "\n",
      "[Verse 3]\n",
      "With all-out screaming\n",
      "We're gonna rip right through your brain\n",
      "We got the lethal power\n",
      "It is causing you sweet pain\n",
      "Oh sweet pain, yeah\n",
      "[Pre-Chorus]\n",
      "When we start to rock\n",
      "We never wanna stop again\n",
      "\n",
      "[Chorus]\n",
      "Hit the lights!\n",
      "Hit the lights!\n",
      "Hit the lights!\n",
      "Hit the lights!\n",
      "\n",
      "[Instrumental Break]\n",
      "[Guitar Solo]11Embed\n"
     ]
    }
   ],
   "source": [
    "for song in artist.songs[53:56]:\n",
    "    print(song.lyrics)"
   ]
  },
  {
   "cell_type": "code",
   "execution_count": 10,
   "id": "0a6f0c9c-f640-4cd7-b984-4773288d8e7c",
   "metadata": {},
   "outputs": [
    {
     "data": {
      "text/plain": [
       "['I', 'look', 'just', 'like', 'Buddy', 'Holly']"
      ]
     },
     "execution_count": 10,
     "metadata": {},
     "output_type": "execute_result"
    }
   ],
   "source": [
    "#Tokenize word:\n",
    "lyrics = 'I look just like Buddy Holly'\n",
    "tokens = lyrics.split()\n",
    "tokens"
   ]
  },
  {
   "cell_type": "code",
   "execution_count": 11,
   "id": "63b1d706-a9d6-4ac1-b218-933f478f9802",
   "metadata": {},
   "outputs": [
    {
     "data": {
      "text/plain": [
       "['I',\n",
       " ' ',\n",
       " 'l',\n",
       " 'o',\n",
       " 'o',\n",
       " 'k',\n",
       " ' ',\n",
       " 'j',\n",
       " 'u',\n",
       " 's',\n",
       " 't',\n",
       " ' ',\n",
       " 'l',\n",
       " 'i',\n",
       " 'k',\n",
       " 'e',\n",
       " ' ',\n",
       " 'B',\n",
       " 'u',\n",
       " 'd',\n",
       " 'd',\n",
       " 'y',\n",
       " ' ',\n",
       " 'H',\n",
       " 'o',\n",
       " 'l',\n",
       " 'l',\n",
       " 'y']"
      ]
     },
     "execution_count": 11,
     "metadata": {},
     "output_type": "execute_result"
    }
   ],
   "source": [
    "lyrics = 'I look just like Buddy Holly'\n",
    "list(lyrics)"
   ]
  },
  {
   "cell_type": "markdown",
   "id": "5c1370a0-858e-4535-ab25-5b42ad541ffc",
   "metadata": {},
   "source": [
    "## Text Processing"
   ]
  },
  {
   "cell_type": "code",
   "execution_count": 13,
   "id": "0470189a-9f51-4758-bc77-6ffa071f05e9",
   "metadata": {},
   "outputs": [],
   "source": [
    "text = ''\n",
    "\n",
    "# This will remove special character for song that are not english\n",
    "special_chars = set([ 'ँ', 'आ', 'ए', 'क', 'ग', 'ज', 'त',\n",
    "       'द', 'ध', 'न', 'प', 'ब', 'म', 'य', 'र', 'व', 'श', 'ह', 'ा', 'ि',\n",
    "       'ी', 'ू', 'े', 'ै', 'ो', '्', '\\u2005', '\\u200c', '—', '‘', '’',\n",
    "       '\\u205f', '느', '사', '어', '이', '제', '죠', '품', '회','\\u0435','\\xa0'])"
   ]
  },
  {
   "cell_type": "code",
   "execution_count": 16,
   "id": "44bed678-1580-43ad-b0a0-099a94d53d42",
   "metadata": {},
   "outputs": [],
   "source": [
    "for song in artist.songs:\n",
    "    chars = set(song.lyrics)\n",
    "    if len(chars.intersection(special_chars)) == 0:\n",
    "        text += song.lyrics\n",
    "    else:\n",
    "        pass"
   ]
  },
  {
   "cell_type": "code",
   "execution_count": 24,
   "id": "83ddd86a-174d-4acd-bf37-ddf414be27ad",
   "metadata": {},
   "outputs": [],
   "source": [
    "f = open(\"200_Metallica_Song_Lyrics.txt\", \"w\")\n",
    "f.write(text)\n",
    "f.close()"
   ]
  },
  {
   "cell_type": "code",
   "execution_count": 25,
   "id": "68ce0e8d-1ad8-4897-aef2-e52a866cf682",
   "metadata": {},
   "outputs": [],
   "source": [
    "vocab = sorted(set(text))"
   ]
  },
  {
   "cell_type": "code",
   "execution_count": 27,
   "id": "2e9d49de-ed23-478f-9b16-a0c5ace82ec9",
   "metadata": {},
   "outputs": [],
   "source": [
    "char_to_ind = {u:i for i, u in enumerate(vocab)}"
   ]
  },
  {
   "cell_type": "code",
   "execution_count": 28,
   "id": "50a1666b-6aa3-4476-a37c-fd9220b50ada",
   "metadata": {},
   "outputs": [],
   "source": [
    "ind_to_char = np.array(vocab)"
   ]
  },
  {
   "cell_type": "code",
   "execution_count": 29,
   "id": "2f8ec4a4-1210-4f9c-b363-80523e180384",
   "metadata": {},
   "outputs": [
    {
     "data": {
      "text/plain": [
       "array(['\\n', ' ', '!', '\"', '$', '&', \"'\", '(', ')', '*', ',', '-', '.',\n",
       "       '/', '0', '1', '2', '3', '4', '5', '6', '7', '8', '9', ':', '?',\n",
       "       'A', 'B', 'C', 'D', 'E', 'F', 'G', 'H', 'I', 'J', 'K', 'L', 'M',\n",
       "       'N', 'O', 'P', 'Q', 'R', 'S', 'T', 'U', 'V', 'W', 'X', 'Y', 'Z',\n",
       "       '[', ']', '`', 'a', 'b', 'c', 'd', 'e', 'f', 'g', 'h', 'i', 'j',\n",
       "       'k', 'l', 'm', 'n', 'o', 'p', 'q', 'r', 's', 't', 'u', 'v', 'w',\n",
       "       'x', 'y', 'z', '´', '\\u200a', '”', '…'], dtype='<U1')"
      ]
     },
     "execution_count": 29,
     "metadata": {},
     "output_type": "execute_result"
    }
   ],
   "source": [
    "ind_to_char"
   ]
  },
  {
   "cell_type": "code",
   "execution_count": 31,
   "id": "e97ec5bc-2a9a-48e5-9837-cdf558ab9cac",
   "metadata": {},
   "outputs": [],
   "source": [
    "encoded_text = np.array([char_to_ind[c] for c in text])"
   ]
  },
  {
   "cell_type": "code",
   "execution_count": 33,
   "id": "7a8e11cc-a329-4192-929b-010b4c8b24a3",
   "metadata": {},
   "outputs": [
    {
     "data": {
      "text/plain": [
       "array([39, 69, 74, ..., 56, 59, 58])"
      ]
     },
     "execution_count": 33,
     "metadata": {},
     "output_type": "execute_result"
    }
   ],
   "source": [
    "encoded_text"
   ]
  },
  {
   "cell_type": "code",
   "execution_count": 34,
   "id": "03d1eebf-2c24-4ae4-b97b-5d603ef5c501",
   "metadata": {},
   "outputs": [
    {
     "data": {
      "text/plain": [
       "'Nothing Else Matters'"
      ]
     },
     "execution_count": 34,
     "metadata": {},
     "output_type": "execute_result"
    }
   ],
   "source": [
    "sample = text[:20]\n",
    "sample"
   ]
  },
  {
   "cell_type": "code",
   "execution_count": 35,
   "id": "855bf38c-c4aa-4ce7-952f-017b318e59a0",
   "metadata": {},
   "outputs": [
    {
     "data": {
      "text/plain": [
       "array([39, 69, 74, 62, 63, 68, 61,  1, 30, 66, 73, 59,  1, 38, 55, 74, 74,\n",
       "       59, 72, 73])"
      ]
     },
     "execution_count": 35,
     "metadata": {},
     "output_type": "execute_result"
    }
   ],
   "source": [
    "encoded_text[:20]"
   ]
  },
  {
   "cell_type": "code",
   "execution_count": 36,
   "id": "6bfa9385-dc4a-42c6-be17-9281686997d4",
   "metadata": {},
   "outputs": [
    {
     "name": "stdout",
     "output_type": "stream",
     "text": [
      "Nothing Else Matters Lyrics[Guitar Intro]\n",
      "\n",
      "[Verse 1]\n",
      "So close, no matter how far\n",
      "Couldn't be much more from the heart\n",
      "Forever trusting who we are\n",
      "And nothing else matters\n",
      "\n",
      "[Verse 2]\n",
      "Never opened myself this way\n",
      "Life is ours, we live it our way\n",
      "All these words I don't just say\n",
      "And nothing else matters\n",
      "[Verse 3]\n",
      "Trust I seek and I find in you\n",
      "Everyday, for us, something new\n",
      "Open mind for a different view\n",
      "And nothing else matters\n",
      "\n",
      "[Chorus 1]\n",
      "Never cared for what they do\n",
      "Never cared for what they kn\n"
     ]
    }
   ],
   "source": [
    "print(text[:500])"
   ]
  },
  {
   "cell_type": "code",
   "execution_count": 37,
   "id": "52bc58a7-6062-4fae-966d-de67eed86580",
   "metadata": {},
   "outputs": [],
   "source": [
    "line = \"Say it ain't so\""
   ]
  },
  {
   "cell_type": "code",
   "execution_count": 38,
   "id": "bc488460-aef8-4d1f-a7e6-970ecdcb0247",
   "metadata": {},
   "outputs": [
    {
     "data": {
      "text/plain": [
       "15"
      ]
     },
     "execution_count": 38,
     "metadata": {},
     "output_type": "execute_result"
    }
   ],
   "source": [
    "len(line)"
   ]
  },
  {
   "cell_type": "markdown",
   "id": "c8a2a48a-15a9-4b5f-838c-e560f5f484c0",
   "metadata": {},
   "source": [
    "Start shaping our data to work with TensorFlow"
   ]
  },
  {
   "cell_type": "code",
   "execution_count": 46,
   "id": "87bd65d5-6cfa-4db1-9122-2398e54a03ad",
   "metadata": {},
   "outputs": [],
   "source": [
    "seq_len = 120"
   ]
  },
  {
   "cell_type": "code",
   "execution_count": 47,
   "id": "334bc099-3c12-4f01-898b-cbc0d80c3911",
   "metadata": {},
   "outputs": [],
   "source": [
    "total_num_seq = len(text)//(seq_len+1)"
   ]
  },
  {
   "cell_type": "code",
   "execution_count": 48,
   "id": "4fc13a55-8113-49e7-8b48-32ebdcb2dc31",
   "metadata": {},
   "outputs": [
    {
     "data": {
      "text/plain": [
       "2723"
      ]
     },
     "execution_count": 48,
     "metadata": {},
     "output_type": "execute_result"
    }
   ],
   "source": [
    "total_num_seq"
   ]
  },
  {
   "cell_type": "code",
   "execution_count": 51,
   "id": "184a5115-4fcc-48e1-983c-d22c1aab6fb2",
   "metadata": {},
   "outputs": [],
   "source": [
    "# Create Training Sequences\n",
    "char_dataset = tf.data.Dataset.from_tensor_slices(encoded_text)\n",
    "\n",
    "# for i in char_dataset.take(500):\n",
    "#      print(ind_to_char[i.numpy()])"
   ]
  },
  {
   "cell_type": "code",
   "execution_count": 52,
   "id": "f4087b62-2db5-40aa-ab28-fb0f51f94985",
   "metadata": {},
   "outputs": [],
   "source": [
    "sequences = char_dataset.batch(seq_len+1,\n",
    "                               drop_remainder=True)"
   ]
  },
  {
   "cell_type": "markdown",
   "id": "e26794f6-759c-4213-af54-4e6c67e29238",
   "metadata": {},
   "source": [
    "Now that we have our sequences, we will perform the following steps for each one to create our target text sequences:\n",
    "\n",
    "1. Grab the input text sequence\n",
    "2. Assign the target text sequence as the input text sequence shifted by one step forward\n",
    "3. Group them together as a tuple"
   ]
  },
  {
   "cell_type": "code",
   "execution_count": 53,
   "id": "ded822f2-a030-48e6-bcb1-91d84b67770d",
   "metadata": {},
   "outputs": [],
   "source": [
    "def create_seq_targets(seq):\n",
    "    input_txt = seq[:-1]\n",
    "    target_txt = seq[1:]\n",
    "    return input_txt, target_txt"
   ]
  },
  {
   "cell_type": "code",
   "execution_count": 54,
   "id": "74636796-d2fd-4024-bc87-7cdb59e50800",
   "metadata": {},
   "outputs": [],
   "source": [
    "dataset = sequences.map(create_seq_targets)"
   ]
  },
  {
   "cell_type": "code",
   "execution_count": 56,
   "id": "5c8e1315-ddd1-4268-beac-dcc5b93746c0",
   "metadata": {},
   "outputs": [
    {
     "name": "stdout",
     "output_type": "stream",
     "text": [
      "[39 69 74 62 63 68 61  1 30 66 73 59  1 38 55 74 74 59 72 73  1 37 79 72\n",
      " 63 57 73 52 32 75 63 74 55 72  1 34 68 74 72 69 53  0  0 52 47 59 72 73\n",
      " 59  1 15 53  0 44 69  1 57 66 69 73 59 10  1 68 69  1 67 55 74 74 59 72\n",
      "  1 62 69 77  1 60 55 72  0 28 69 75 66 58 68  6 74  1 56 59  1 67 75 57\n",
      " 62  1 67 69 72 59  1 60 72 69 67  1 74 62 59  1 62 59 55 72 74  0 31 69]\n",
      "Nothing Else Matters Lyrics[Guitar Intro]\n",
      "\n",
      "[Verse 1]\n",
      "So close, no matter how far\n",
      "Couldn't be much more from the heart\n",
      "Fo\n",
      "\n",
      "\n",
      "[69 74 62 63 68 61  1 30 66 73 59  1 38 55 74 74 59 72 73  1 37 79 72 63\n",
      " 57 73 52 32 75 63 74 55 72  1 34 68 74 72 69 53  0  0 52 47 59 72 73 59\n",
      "  1 15 53  0 44 69  1 57 66 69 73 59 10  1 68 69  1 67 55 74 74 59 72  1\n",
      " 62 69 77  1 60 55 72  0 28 69 75 66 58 68  6 74  1 56 59  1 67 75 57 62\n",
      "  1 67 69 72 59  1 60 72 69 67  1 74 62 59  1 62 59 55 72 74  0 31 69 72]\n",
      "othing Else Matters Lyrics[Guitar Intro]\n",
      "\n",
      "[Verse 1]\n",
      "So close, no matter how far\n",
      "Couldn't be much more from the heart\n",
      "For\n"
     ]
    }
   ],
   "source": [
    "for input_txt, target_txt in dataset.take(1):\n",
    "    print(input_txt.numpy())\n",
    "    print(''.join(ind_to_char[input_txt.numpy()]))\n",
    "    print('\\n')\n",
    "    print(target_txt.numpy())\n",
    "    # There is an extra whitespace!\n",
    "    print(''.join(ind_to_char[target_txt.numpy()]))"
   ]
  },
  {
   "cell_type": "markdown",
   "id": "c430192b-5284-45c7-b9a4-694315a629e4",
   "metadata": {},
   "source": [
    "GENERATING TRAINING BATCHES\n",
    "\n",
    "Now that we have the actual sequences, we will create the batches, we want to shuffle these sequences into a random order, so the model doesn’t overfit to any section of the text, but can instead generate characters given any seed text."
   ]
  },
  {
   "cell_type": "code",
   "execution_count": 57,
   "id": "9ced166d-149f-4af1-9109-492256a7ab33",
   "metadata": {},
   "outputs": [],
   "source": [
    "# Batch size \n",
    "batch_size = 129\n",
    "\n",
    "# Buffer size to shuffle the dataset so it doesn't attempt to shuffle\n",
    "# the entire sequence in memory. Instead, it meantains a buffer in which it shuffles elements\n",
    "buffer_size = 1000\n",
    "\n",
    "dataset = dataset.shuffle(buffer_size).batch(batch_size, drop_remainder=True)"
   ]
  },
  {
   "cell_type": "code",
   "execution_count": 58,
   "id": "a70a7c8d-ccfd-443d-92ff-2f4f8fc9bb35",
   "metadata": {},
   "outputs": [
    {
     "data": {
      "text/plain": [
       "<BatchDataset shapes: ((129, 120), (129, 120)), types: (tf.int64, tf.int64)>"
      ]
     },
     "execution_count": 58,
     "metadata": {},
     "output_type": "execute_result"
    }
   ],
   "source": [
    "dataset"
   ]
  },
  {
   "cell_type": "markdown",
   "id": "d8bd2d4b-0645-4ba4-8300-6e40db31bdde",
   "metadata": {},
   "source": [
    "# Creating Model "
   ]
  },
  {
   "cell_type": "code",
   "execution_count": 59,
   "id": "eb06ff43-a7bb-491d-9b46-bd0f1a6e69ee",
   "metadata": {},
   "outputs": [],
   "source": [
    "# Length of vocabulary in chars\n",
    "vocab_size = len(vocab)\n",
    "\n",
    "# The embedding dimension\n",
    "embed_dim = 64\n",
    "\n",
    "# Number of RNN units\n",
    "rnn_neurons = 1026"
   ]
  },
  {
   "cell_type": "code",
   "execution_count": null,
   "id": "899db0e2-df1f-4c0f-a94d-30a7f8fd8f8c",
   "metadata": {},
   "outputs": [],
   "source": [
    "ten"
   ]
  },
  {
   "cell_type": "code",
   "execution_count": null,
   "id": "ddd182c3-48e9-4dde-9b44-bd26e681c5d6",
   "metadata": {},
   "outputs": [],
   "source": []
  }
 ],
 "metadata": {
  "kernelspec": {
   "display_name": "tf",
   "language": "python",
   "name": "tf"
  },
  "language_info": {
   "codemirror_mode": {
    "name": "ipython",
    "version": 3
   },
   "file_extension": ".py",
   "mimetype": "text/x-python",
   "name": "python",
   "nbconvert_exporter": "python",
   "pygments_lexer": "ipython3",
   "version": "3.8.13"
  }
 },
 "nbformat": 4,
 "nbformat_minor": 5
}
