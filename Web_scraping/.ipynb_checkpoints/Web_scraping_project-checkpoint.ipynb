{
 "cells": [
  {
   "cell_type": "markdown",
   "id": "a85179fd-45de-40ea-8aba-ac1b60b2a149",
   "metadata": {},
   "source": [
    "# Web scraping with Python"
   ]
  },
  {
   "cell_type": "markdown",
   "id": "a22772af-3782-4dd4-a4f5-b271ca930c23",
   "metadata": {},
   "source": [
    "https://pieriantraining.com/how-to-perform-web-scraping-with-python/?utm_source=udemy&utm_medium=referral&utm_campaign=site_live_announcement"
   ]
  },
  {
   "cell_type": "code",
   "execution_count": 8,
   "id": "ef26d9b6-2721-4b22-bcf5-cb197f002d47",
   "metadata": {},
   "outputs": [],
   "source": [
    "import requests\n",
    "import bs4"
   ]
  },
  {
   "cell_type": "code",
   "execution_count": 5,
   "id": "8254b6b6-f2fc-494d-b236-bd28113b6960",
   "metadata": {},
   "outputs": [],
   "source": [
    "res = requests.get('http://www.example.com')"
   ]
  },
  {
   "cell_type": "code",
   "execution_count": 6,
   "id": "bb4c1277-17a2-48ac-9948-b267504a0a2c",
   "metadata": {},
   "outputs": [
    {
     "data": {
      "text/plain": [
       "requests.models.Response"
      ]
     },
     "execution_count": 6,
     "metadata": {},
     "output_type": "execute_result"
    }
   ],
   "source": [
    "type(res)"
   ]
  },
  {
   "cell_type": "code",
   "execution_count": 7,
   "id": "a05138f9-f7d8-4a4f-8168-a7134dfb8420",
   "metadata": {},
   "outputs": [
    {
     "data": {
      "text/plain": [
       "'<!doctype html>\\n<html>\\n<head>\\n    <title>Example Domain</title>\\n\\n    <meta charset=\"utf-8\" />\\n    <meta http-equiv=\"Content-type\" content=\"text/html; charset=utf-8\" />\\n    <meta name=\"viewport\" content=\"width=device-width, initial-scale=1\" />\\n    <style type=\"text/css\">\\n    body {\\n        background-color: #f0f0f2;\\n        margin: 0;\\n        padding: 0;\\n        font-family: -apple-system, system-ui, BlinkMacSystemFont, \"Segoe UI\", \"Open Sans\", \"Helvetica Neue\", Helvetica, Arial, sans-serif;\\n        \\n    }\\n    div {\\n        width: 600px;\\n        margin: 5em auto;\\n        padding: 2em;\\n        background-color: #fdfdff;\\n        border-radius: 0.5em;\\n        box-shadow: 2px 3px 7px 2px rgba(0,0,0,0.02);\\n    }\\n    a:link, a:visited {\\n        color: #38488f;\\n        text-decoration: none;\\n    }\\n    @media (max-width: 700px) {\\n        div {\\n            margin: 0 auto;\\n            width: auto;\\n        }\\n    }\\n    </style>    \\n</head>\\n\\n<body>\\n<div>\\n    <h1>Example Domain</h1>\\n    <p>This domain is for use in illustrative examples in documents. You may use this\\n    domain in literature without prior coordination or asking for permission.</p>\\n    <p><a href=\"https://www.iana.org/domains/example\">More information...</a></p>\\n</div>\\n</body>\\n</html>\\n'"
      ]
     },
     "execution_count": 7,
     "metadata": {},
     "output_type": "execute_result"
    }
   ],
   "source": [
    "res.text"
   ]
  },
  {
   "cell_type": "code",
   "execution_count": 9,
   "id": "cd8ca902-68db-491c-b4ed-4c105835b5fb",
   "metadata": {},
   "outputs": [],
   "source": [
    "soup = bs4.BeautifulSoup(res.text,\n",
    "                         'lxml')"
   ]
  },
  {
   "cell_type": "code",
   "execution_count": 10,
   "id": "1997ba7e-e88e-4235-af7b-c4e83d61a125",
   "metadata": {},
   "outputs": [
    {
     "data": {
      "text/plain": [
       "<!DOCTYPE html>\n",
       "<html>\n",
       "<head>\n",
       "<title>Example Domain</title>\n",
       "<meta charset=\"utf-8\"/>\n",
       "<meta content=\"text/html; charset=utf-8\" http-equiv=\"Content-type\"/>\n",
       "<meta content=\"width=device-width, initial-scale=1\" name=\"viewport\"/>\n",
       "<style type=\"text/css\">\n",
       "    body {\n",
       "        background-color: #f0f0f2;\n",
       "        margin: 0;\n",
       "        padding: 0;\n",
       "        font-family: -apple-system, system-ui, BlinkMacSystemFont, \"Segoe UI\", \"Open Sans\", \"Helvetica Neue\", Helvetica, Arial, sans-serif;\n",
       "        \n",
       "    }\n",
       "    div {\n",
       "        width: 600px;\n",
       "        margin: 5em auto;\n",
       "        padding: 2em;\n",
       "        background-color: #fdfdff;\n",
       "        border-radius: 0.5em;\n",
       "        box-shadow: 2px 3px 7px 2px rgba(0,0,0,0.02);\n",
       "    }\n",
       "    a:link, a:visited {\n",
       "        color: #38488f;\n",
       "        text-decoration: none;\n",
       "    }\n",
       "    @media (max-width: 700px) {\n",
       "        div {\n",
       "            margin: 0 auto;\n",
       "            width: auto;\n",
       "        }\n",
       "    }\n",
       "    </style>\n",
       "</head>\n",
       "<body>\n",
       "<div>\n",
       "<h1>Example Domain</h1>\n",
       "<p>This domain is for use in illustrative examples in documents. You may use this\n",
       "    domain in literature without prior coordination or asking for permission.</p>\n",
       "<p><a href=\"https://www.iana.org/domains/example\">More information...</a></p>\n",
       "</div>\n",
       "</body>\n",
       "</html>"
      ]
     },
     "execution_count": 10,
     "metadata": {},
     "output_type": "execute_result"
    }
   ],
   "source": [
    "soup"
   ]
  },
  {
   "cell_type": "code",
   "execution_count": 11,
   "id": "dfd08263-d17d-483a-9da8-cbeec04a6b1b",
   "metadata": {},
   "outputs": [
    {
     "data": {
      "text/plain": [
       "[<title>Example Domain</title>]"
      ]
     },
     "execution_count": 11,
     "metadata": {},
     "output_type": "execute_result"
    }
   ],
   "source": [
    "soup.select('title')"
   ]
  },
  {
   "cell_type": "code",
   "execution_count": 13,
   "id": "af9c6711-09e8-4806-89a8-b12b6ce8871c",
   "metadata": {},
   "outputs": [],
   "source": [
    "title_tag = soup.select('title')"
   ]
  },
  {
   "cell_type": "code",
   "execution_count": 15,
   "id": "88f11922-4041-4c92-9d58-36d188f0991c",
   "metadata": {},
   "outputs": [
    {
     "data": {
      "text/plain": [
       "<title>Example Domain</title>"
      ]
     },
     "execution_count": 15,
     "metadata": {},
     "output_type": "execute_result"
    }
   ],
   "source": [
    "title_tag[0]"
   ]
  },
  {
   "cell_type": "code",
   "execution_count": 16,
   "id": "7938b0d1-e948-4a8c-a534-0aaee48000e5",
   "metadata": {},
   "outputs": [
    {
     "data": {
      "text/plain": [
       "'Example Domain'"
      ]
     },
     "execution_count": 16,
     "metadata": {},
     "output_type": "execute_result"
    }
   ],
   "source": [
    "title_tag[0].getText()"
   ]
  },
  {
   "cell_type": "markdown",
   "id": "d87608c9-2ae8-405a-aacd-9a712d8468d7",
   "metadata": {},
   "source": [
    "## Now example with wikipedia"
   ]
  },
  {
   "cell_type": "code",
   "execution_count": 17,
   "id": "b249e3ef-9ffa-4180-8bbb-28be2f91ae2b",
   "metadata": {},
   "outputs": [],
   "source": [
    "# First get the request\n",
    "res = requests.get('https://en.wikipedia.org/wiki/Enigma_machine')"
   ]
  },
  {
   "cell_type": "code",
   "execution_count": 18,
   "id": "58a5e16d-684a-47e5-b39b-f35ca403f276",
   "metadata": {},
   "outputs": [],
   "source": [
    "# Create a soup from request\n",
    "soup = bs4.BeautifulSoup(res.text,\n",
    "                         'lxml')"
   ]
  },
  {
   "cell_type": "code",
   "execution_count": 21,
   "id": "64c56952-2111-4c2c-a601-721d1171acc5",
   "metadata": {},
   "outputs": [],
   "source": [
    "# soup.select('div') - all elements with the <div> tag\n",
    "# soup.select('#some_id') - the html element containing the id attribute of some_id\n",
    "# soup.select('.notice') - all the html element with the CSS class name notice\n",
    "# soup.select('div span') - any elements named <span> that are within an element named <div>\n",
    "# soup.select('div > span') - any elemtns named <span> that are directly within an element named <div>, with no other element in between"
   ]
  },
  {
   "cell_type": "code",
   "execution_count": 23,
   "id": "2c247cfb-6bd7-439d-bf5b-74907f55e395",
   "metadata": {},
   "outputs": [
    {
     "data": {
      "text/plain": [
       "[<span class=\"toctext\">History</span>,\n",
       " <span class=\"toctext\">Breaking Enigma</span>,\n",
       " <span class=\"toctext\">Design</span>,\n",
       " <span class=\"toctext\">Electrical pathway</span>,\n",
       " <span class=\"toctext\">Rotors</span>,\n",
       " <span class=\"toctext\">Stepping</span>,\n",
       " <span class=\"toctext\">Turnover</span>,\n",
       " <span class=\"toctext\">Entry wheel</span>,\n",
       " <span class=\"toctext\">Reflector</span>,\n",
       " <span class=\"toctext\">Plugboard</span>,\n",
       " <span class=\"toctext\">Accessories</span>,\n",
       " <span class=\"toctext\"><i>Schreibmax</i></span>,\n",
       " <span class=\"toctext\"><i>Fernlesegerät</i></span>,\n",
       " <span class=\"toctext\"><i>Uhr</i></span>,\n",
       " <span class=\"toctext\">Mathematical analysis</span>,\n",
       " <span class=\"toctext\">Operation</span>,\n",
       " <span class=\"toctext\">Basic operation</span>,\n",
       " <span class=\"toctext\">Details</span>,\n",
       " <span class=\"toctext\">Indicator</span>,\n",
       " <span class=\"toctext\">Additional details</span>,\n",
       " <span class=\"toctext\">Example enciphering process</span>,\n",
       " <span class=\"toctext\">Models</span>,\n",
       " <span class=\"toctext\">Commercial Enigma</span>,\n",
       " <span class=\"toctext\">Enigma Handelsmaschine (1923)</span>,\n",
       " <span class=\"toctext\">Die schreibende Enigma (1924)</span>,\n",
       " <span class=\"toctext\">Die Glühlampenmaschine, Enigma A (1924)</span>,\n",
       " <span class=\"toctext\">Enigma B (1924)</span>,\n",
       " <span class=\"toctext\">Enigma C (1926)</span>,\n",
       " <span class=\"toctext\">Enigma D (1927)</span>,\n",
       " <span class=\"toctext\">\"Navy Cipher D\"</span>,\n",
       " <span class=\"toctext\">Enigma H (1929)</span>,\n",
       " <span class=\"toctext\">Enigma K</span>,\n",
       " <span class=\"toctext\">Military Enigma</span>,\n",
       " <span class=\"toctext\">Funkschlüssel C</span>,\n",
       " <span class=\"toctext\">Enigma G (1928–1930)</span>,\n",
       " <span class=\"toctext\">Wehrmacht Enigma I (1930–1938)</span>,\n",
       " <span class=\"toctext\">M3 (1934)</span>,\n",
       " <span class=\"toctext\">Two extra rotors (1938)</span>,\n",
       " <span class=\"toctext\">M4 (1942)</span>,\n",
       " <span class=\"toctext\">Surviving machines</span>,\n",
       " <span class=\"toctext\">Derivatives</span>,\n",
       " <span class=\"toctext\">Simulators</span>,\n",
       " <span class=\"toctext\">See also</span>,\n",
       " <span class=\"toctext\">Explanatory notes</span>,\n",
       " <span class=\"toctext\">References</span>,\n",
       " <span class=\"toctext\">Citations</span>,\n",
       " <span class=\"toctext\">General and cited references</span>,\n",
       " <span class=\"toctext\">Further reading</span>,\n",
       " <span class=\"toctext\">External links</span>]"
      ]
     },
     "execution_count": 23,
     "metadata": {},
     "output_type": "execute_result"
    }
   ],
   "source": [
    "# Contents\n",
    "soup.select('.toctext')"
   ]
  },
  {
   "cell_type": "code",
   "execution_count": 25,
   "id": "50aff317-bb00-4847-ba34-2fe089f90669",
   "metadata": {},
   "outputs": [
    {
     "name": "stdout",
     "output_type": "stream",
     "text": [
      "History\n",
      "Breaking Enigma\n",
      "Design\n",
      "Electrical pathway\n",
      "Rotors\n",
      "Stepping\n",
      "Turnover\n",
      "Entry wheel\n",
      "Reflector\n",
      "Plugboard\n",
      "Accessories\n",
      "Schreibmax\n",
      "Fernlesegerät\n",
      "Uhr\n",
      "Mathematical analysis\n",
      "Operation\n",
      "Basic operation\n",
      "Details\n",
      "Indicator\n",
      "Additional details\n",
      "Example enciphering process\n",
      "Models\n",
      "Commercial Enigma\n",
      "Enigma Handelsmaschine (1923)\n",
      "Die schreibende Enigma (1924)\n",
      "Die Glühlampenmaschine, Enigma A (1924)\n",
      "Enigma B (1924)\n",
      "Enigma C (1926)\n",
      "Enigma D (1927)\n",
      "\"Navy Cipher D\"\n",
      "Enigma H (1929)\n",
      "Enigma K\n",
      "Military Enigma\n",
      "Funkschlüssel C\n",
      "Enigma G (1928–1930)\n",
      "Wehrmacht Enigma I (1930–1938)\n",
      "M3 (1934)\n",
      "Two extra rotors (1938)\n",
      "M4 (1942)\n",
      "Surviving machines\n",
      "Derivatives\n",
      "Simulators\n",
      "See also\n",
      "Explanatory notes\n",
      "References\n",
      "Citations\n",
      "General and cited references\n",
      "Further reading\n",
      "External links\n"
     ]
    }
   ],
   "source": [
    "for item in soup.select('.toctext'):\n",
    "    print(item.text)"
   ]
  },
  {
   "cell_type": "markdown",
   "id": "ba26bcc3-1595-4ed6-88ae-37c650eaa97c",
   "metadata": {},
   "source": [
    "## Another example\n",
    "Grab image from wikipedia article"
   ]
  },
  {
   "cell_type": "code",
   "execution_count": 26,
   "id": "075d9269-e1d2-4fbf-9410-edc7ba45c6ef",
   "metadata": {},
   "outputs": [],
   "source": [
    "res = requests.get('https://en.wikipedia.org/wiki/Extreme_ironing')"
   ]
  },
  {
   "cell_type": "code",
   "execution_count": 27,
   "id": "ffd9c6f5-f5d9-4e4f-a094-9a0180ecf706",
   "metadata": {},
   "outputs": [],
   "source": [
    "soup = bs4.BeautifulSoup(res.text, \n",
    "                         'lxml')"
   ]
  },
  {
   "cell_type": "code",
   "execution_count": 28,
   "id": "69091577-3465-422a-888d-25f8c0160825",
   "metadata": {},
   "outputs": [],
   "source": [
    "image_info = soup.select('.thumbimage')"
   ]
  },
  {
   "cell_type": "code",
   "execution_count": 29,
   "id": "192a7196-10c2-4d5b-8ebe-cc9629e776bd",
   "metadata": {},
   "outputs": [
    {
     "data": {
      "text/plain": [
       "[<img alt=\"\" class=\"thumbimage\" data-file-height=\"1280\" data-file-width=\"960\" decoding=\"async\" height=\"293\" src=\"//upload.wikimedia.org/wikipedia/commons/thumb/d/dc/Extermeironingrivelin.jpg/220px-Extermeironingrivelin.jpg\" srcset=\"//upload.wikimedia.org/wikipedia/commons/thumb/d/dc/Extermeironingrivelin.jpg/330px-Extermeironingrivelin.jpg 1.5x, //upload.wikimedia.org/wikipedia/commons/thumb/d/dc/Extermeironingrivelin.jpg/440px-Extermeironingrivelin.jpg 2x\" width=\"220\"/>,\n",
       " <img alt=\"\" class=\"thumbimage\" data-file-height=\"371\" data-file-width=\"494\" decoding=\"async\" height=\"165\" src=\"//upload.wikimedia.org/wikipedia/commons/thumb/3/37/Highlander411_extreme_ironing.jpg/220px-Highlander411_extreme_ironing.jpg\" srcset=\"//upload.wikimedia.org/wikipedia/commons/thumb/3/37/Highlander411_extreme_ironing.jpg/330px-Highlander411_extreme_ironing.jpg 1.5x, //upload.wikimedia.org/wikipedia/commons/thumb/3/37/Highlander411_extreme_ironing.jpg/440px-Highlander411_extreme_ironing.jpg 2x\" width=\"220\"/>]"
      ]
     },
     "execution_count": 29,
     "metadata": {},
     "output_type": "execute_result"
    }
   ],
   "source": [
    "image_info"
   ]
  },
  {
   "cell_type": "code",
   "execution_count": 30,
   "id": "4298f4e8-ea9d-4fcb-adf5-f21c2df83548",
   "metadata": {},
   "outputs": [
    {
     "data": {
      "text/plain": [
       "2"
      ]
     },
     "execution_count": 30,
     "metadata": {},
     "output_type": "execute_result"
    }
   ],
   "source": [
    "len(image_info)"
   ]
  },
  {
   "cell_type": "code",
   "execution_count": 31,
   "id": "1653cb09-8c00-4d43-8ff9-7163d848da99",
   "metadata": {},
   "outputs": [],
   "source": [
    "image = image_info[0]"
   ]
  },
  {
   "cell_type": "code",
   "execution_count": 33,
   "id": "a6053316-2750-431a-9d91-070b1369b88e",
   "metadata": {},
   "outputs": [
    {
     "data": {
      "text/plain": [
       "bs4.element.Tag"
      ]
     },
     "execution_count": 33,
     "metadata": {},
     "output_type": "execute_result"
    }
   ],
   "source": [
    "type(image)"
   ]
  },
  {
   "cell_type": "code",
   "execution_count": 34,
   "id": "2b99cd47-0efa-44db-b434-038cd869e094",
   "metadata": {},
   "outputs": [
    {
     "data": {
      "text/plain": [
       "'//upload.wikimedia.org/wikipedia/commons/thumb/d/dc/Extermeironingrivelin.jpg/220px-Extermeironingrivelin.jpg'"
      ]
     },
     "execution_count": 34,
     "metadata": {},
     "output_type": "execute_result"
    }
   ],
   "source": [
    "image['src']"
   ]
  },
  {
   "cell_type": "markdown",
   "id": "87e60742-58c6-4621-a912-693b38619fe1",
   "metadata": {},
   "source": [
    "<img src='//upload.wikimedia.org/wikipedia/commons/thumb/d/dc/Extermeironingrivelin.jpg/220px-Extermeironingrivelin.jpg'>"
   ]
  },
  {
   "cell_type": "code",
   "execution_count": 42,
   "id": "f30c2fed-4065-4dbb-8429-0a543bae72c2",
   "metadata": {},
   "outputs": [],
   "source": [
    "image_link = requests.get('http://upload.wikimedia.org/wikipedia/commons/thumb/d/dc/Extermeironingrivelin.jpg/220px-Extermeironingrivelin.jpg')"
   ]
  },
  {
   "cell_type": "markdown",
   "id": "15e3f333-f451-4efe-99b2-8435eecd6c47",
   "metadata": {},
   "source": [
    "Let’s write this to a file:=, not the ‘wb’ call to denote a binary writing of the file."
   ]
  },
  {
   "cell_type": "code",
   "execution_count": 43,
   "id": "9ef238a2-e247-4a0a-880f-ce0498b568f4",
   "metadata": {},
   "outputs": [],
   "source": [
    "f = open('my_new_file_name.jpg',\n",
    "         'wb')"
   ]
  },
  {
   "cell_type": "code",
   "execution_count": 44,
   "id": "4291d7ca-a9e4-4b5b-899e-29876b0eee65",
   "metadata": {},
   "outputs": [
    {
     "data": {
      "text/plain": [
       "11033"
      ]
     },
     "execution_count": 44,
     "metadata": {},
     "output_type": "execute_result"
    }
   ],
   "source": [
    "f.write(image_link.content)"
   ]
  },
  {
   "cell_type": "code",
   "execution_count": 45,
   "id": "e8359281-33bc-4e6e-a1ac-111ab024beec",
   "metadata": {},
   "outputs": [],
   "source": [
    "f.close()"
   ]
  },
  {
   "cell_type": "markdown",
   "id": "74791033-f116-414e-8231-c2f6450cf935",
   "metadata": {},
   "source": [
    "<img src='my_new_file_name.jpg'>"
   ]
  },
  {
   "cell_type": "markdown",
   "id": "3d42fa9d-1685-4930-86de-b9e067134860",
   "metadata": {
    "tags": []
   },
   "source": [
    "## Example project\n",
    "\n",
    "Let’s show a more realistic example of scraping a full site. The website: http://books.toscrape.com/index.html is specifically designed for people to scrape it. Let’s try to get the title of every book that has a 2 star rating and at the end just have a Python list with all their titles.\n",
    "\n",
    "We will do the following:\n",
    "\n",
    "1. Figure out the URL structure to go through every page\n",
    "2. Scrap every page in the catalogue\n",
    "3. Figure out what tag/class represents the Star rating\n",
    "4. Filter by that star rating using an if statement\n",
    "5. Store the results to a list"
   ]
  },
  {
   "cell_type": "code",
   "execution_count": 47,
   "id": "f996c33f-da21-4e8e-8fbb-b9a0cdd6a8c0",
   "metadata": {},
   "outputs": [],
   "source": [
    "# http://books.toscrape.com/catalogue/page-1.html\n",
    "base_url = 'http://books.toscrape.com/catalogue/page-{}.html'"
   ]
  },
  {
   "cell_type": "code",
   "execution_count": 48,
   "id": "5b26a4c9-2bba-4732-bab5-7f02b5c8ff46",
   "metadata": {},
   "outputs": [],
   "source": [
    "res = requests.get(base_url.format('1'))"
   ]
  },
  {
   "cell_type": "code",
   "execution_count": 52,
   "id": "a93a6097-4226-4993-a75a-f7670f06c3c7",
   "metadata": {},
   "outputs": [],
   "source": [
    "soup = bs4.BeautifulSoup(res.text,\n",
    "                         'lxml')"
   ]
  },
  {
   "cell_type": "code",
   "execution_count": 54,
   "id": "4d09b260-d96f-4bc6-948c-23f28d5c5029",
   "metadata": {
    "collapsed": true,
    "jupyter": {
     "outputs_hidden": true
    },
    "tags": []
   },
   "outputs": [
    {
     "data": {
      "text/plain": [
       "[<article class=\"product_pod\">\n",
       " <div class=\"image_container\">\n",
       " <a href=\"a-light-in-the-attic_1000/index.html\"><img alt=\"A Light in the Attic\" class=\"thumbnail\" src=\"../media/cache/2c/da/2cdad67c44b002e7ead0cc35693c0e8b.jpg\"/></a>\n",
       " </div>\n",
       " <p class=\"star-rating Three\">\n",
       " <i class=\"icon-star\"></i>\n",
       " <i class=\"icon-star\"></i>\n",
       " <i class=\"icon-star\"></i>\n",
       " <i class=\"icon-star\"></i>\n",
       " <i class=\"icon-star\"></i>\n",
       " </p>\n",
       " <h3><a href=\"a-light-in-the-attic_1000/index.html\" title=\"A Light in the Attic\">A Light in the ...</a></h3>\n",
       " <div class=\"product_price\">\n",
       " <p class=\"price_color\">Â£51.77</p>\n",
       " <p class=\"instock availability\">\n",
       " <i class=\"icon-ok\"></i>\n",
       "     \n",
       "         In stock\n",
       "     \n",
       " </p>\n",
       " <form>\n",
       " <button class=\"btn btn-primary btn-block\" data-loading-text=\"Adding...\" type=\"submit\">Add to basket</button>\n",
       " </form>\n",
       " </div>\n",
       " </article>,\n",
       " <article class=\"product_pod\">\n",
       " <div class=\"image_container\">\n",
       " <a href=\"tipping-the-velvet_999/index.html\"><img alt=\"Tipping the Velvet\" class=\"thumbnail\" src=\"../media/cache/26/0c/260c6ae16bce31c8f8c95daddd9f4a1c.jpg\"/></a>\n",
       " </div>\n",
       " <p class=\"star-rating One\">\n",
       " <i class=\"icon-star\"></i>\n",
       " <i class=\"icon-star\"></i>\n",
       " <i class=\"icon-star\"></i>\n",
       " <i class=\"icon-star\"></i>\n",
       " <i class=\"icon-star\"></i>\n",
       " </p>\n",
       " <h3><a href=\"tipping-the-velvet_999/index.html\" title=\"Tipping the Velvet\">Tipping the Velvet</a></h3>\n",
       " <div class=\"product_price\">\n",
       " <p class=\"price_color\">Â£53.74</p>\n",
       " <p class=\"instock availability\">\n",
       " <i class=\"icon-ok\"></i>\n",
       "     \n",
       "         In stock\n",
       "     \n",
       " </p>\n",
       " <form>\n",
       " <button class=\"btn btn-primary btn-block\" data-loading-text=\"Adding...\" type=\"submit\">Add to basket</button>\n",
       " </form>\n",
       " </div>\n",
       " </article>,\n",
       " <article class=\"product_pod\">\n",
       " <div class=\"image_container\">\n",
       " <a href=\"soumission_998/index.html\"><img alt=\"Soumission\" class=\"thumbnail\" src=\"../media/cache/3e/ef/3eef99c9d9adef34639f510662022830.jpg\"/></a>\n",
       " </div>\n",
       " <p class=\"star-rating One\">\n",
       " <i class=\"icon-star\"></i>\n",
       " <i class=\"icon-star\"></i>\n",
       " <i class=\"icon-star\"></i>\n",
       " <i class=\"icon-star\"></i>\n",
       " <i class=\"icon-star\"></i>\n",
       " </p>\n",
       " <h3><a href=\"soumission_998/index.html\" title=\"Soumission\">Soumission</a></h3>\n",
       " <div class=\"product_price\">\n",
       " <p class=\"price_color\">Â£50.10</p>\n",
       " <p class=\"instock availability\">\n",
       " <i class=\"icon-ok\"></i>\n",
       "     \n",
       "         In stock\n",
       "     \n",
       " </p>\n",
       " <form>\n",
       " <button class=\"btn btn-primary btn-block\" data-loading-text=\"Adding...\" type=\"submit\">Add to basket</button>\n",
       " </form>\n",
       " </div>\n",
       " </article>,\n",
       " <article class=\"product_pod\">\n",
       " <div class=\"image_container\">\n",
       " <a href=\"sharp-objects_997/index.html\"><img alt=\"Sharp Objects\" class=\"thumbnail\" src=\"../media/cache/32/51/3251cf3a3412f53f339e42cac2134093.jpg\"/></a>\n",
       " </div>\n",
       " <p class=\"star-rating Four\">\n",
       " <i class=\"icon-star\"></i>\n",
       " <i class=\"icon-star\"></i>\n",
       " <i class=\"icon-star\"></i>\n",
       " <i class=\"icon-star\"></i>\n",
       " <i class=\"icon-star\"></i>\n",
       " </p>\n",
       " <h3><a href=\"sharp-objects_997/index.html\" title=\"Sharp Objects\">Sharp Objects</a></h3>\n",
       " <div class=\"product_price\">\n",
       " <p class=\"price_color\">Â£47.82</p>\n",
       " <p class=\"instock availability\">\n",
       " <i class=\"icon-ok\"></i>\n",
       "     \n",
       "         In stock\n",
       "     \n",
       " </p>\n",
       " <form>\n",
       " <button class=\"btn btn-primary btn-block\" data-loading-text=\"Adding...\" type=\"submit\">Add to basket</button>\n",
       " </form>\n",
       " </div>\n",
       " </article>,\n",
       " <article class=\"product_pod\">\n",
       " <div class=\"image_container\">\n",
       " <a href=\"sapiens-a-brief-history-of-humankind_996/index.html\"><img alt=\"Sapiens: A Brief History of Humankind\" class=\"thumbnail\" src=\"../media/cache/be/a5/bea5697f2534a2f86a3ef27b5a8c12a6.jpg\"/></a>\n",
       " </div>\n",
       " <p class=\"star-rating Five\">\n",
       " <i class=\"icon-star\"></i>\n",
       " <i class=\"icon-star\"></i>\n",
       " <i class=\"icon-star\"></i>\n",
       " <i class=\"icon-star\"></i>\n",
       " <i class=\"icon-star\"></i>\n",
       " </p>\n",
       " <h3><a href=\"sapiens-a-brief-history-of-humankind_996/index.html\" title=\"Sapiens: A Brief History of Humankind\">Sapiens: A Brief History ...</a></h3>\n",
       " <div class=\"product_price\">\n",
       " <p class=\"price_color\">Â£54.23</p>\n",
       " <p class=\"instock availability\">\n",
       " <i class=\"icon-ok\"></i>\n",
       "     \n",
       "         In stock\n",
       "     \n",
       " </p>\n",
       " <form>\n",
       " <button class=\"btn btn-primary btn-block\" data-loading-text=\"Adding...\" type=\"submit\">Add to basket</button>\n",
       " </form>\n",
       " </div>\n",
       " </article>,\n",
       " <article class=\"product_pod\">\n",
       " <div class=\"image_container\">\n",
       " <a href=\"the-requiem-red_995/index.html\"><img alt=\"The Requiem Red\" class=\"thumbnail\" src=\"../media/cache/68/33/68339b4c9bc034267e1da611ab3b34f8.jpg\"/></a>\n",
       " </div>\n",
       " <p class=\"star-rating One\">\n",
       " <i class=\"icon-star\"></i>\n",
       " <i class=\"icon-star\"></i>\n",
       " <i class=\"icon-star\"></i>\n",
       " <i class=\"icon-star\"></i>\n",
       " <i class=\"icon-star\"></i>\n",
       " </p>\n",
       " <h3><a href=\"the-requiem-red_995/index.html\" title=\"The Requiem Red\">The Requiem Red</a></h3>\n",
       " <div class=\"product_price\">\n",
       " <p class=\"price_color\">Â£22.65</p>\n",
       " <p class=\"instock availability\">\n",
       " <i class=\"icon-ok\"></i>\n",
       "     \n",
       "         In stock\n",
       "     \n",
       " </p>\n",
       " <form>\n",
       " <button class=\"btn btn-primary btn-block\" data-loading-text=\"Adding...\" type=\"submit\">Add to basket</button>\n",
       " </form>\n",
       " </div>\n",
       " </article>,\n",
       " <article class=\"product_pod\">\n",
       " <div class=\"image_container\">\n",
       " <a href=\"the-dirty-little-secrets-of-getting-your-dream-job_994/index.html\"><img alt=\"The Dirty Little Secrets of Getting Your Dream Job\" class=\"thumbnail\" src=\"../media/cache/92/27/92274a95b7c251fea59a2b8a78275ab4.jpg\"/></a>\n",
       " </div>\n",
       " <p class=\"star-rating Four\">\n",
       " <i class=\"icon-star\"></i>\n",
       " <i class=\"icon-star\"></i>\n",
       " <i class=\"icon-star\"></i>\n",
       " <i class=\"icon-star\"></i>\n",
       " <i class=\"icon-star\"></i>\n",
       " </p>\n",
       " <h3><a href=\"the-dirty-little-secrets-of-getting-your-dream-job_994/index.html\" title=\"The Dirty Little Secrets of Getting Your Dream Job\">The Dirty Little Secrets ...</a></h3>\n",
       " <div class=\"product_price\">\n",
       " <p class=\"price_color\">Â£33.34</p>\n",
       " <p class=\"instock availability\">\n",
       " <i class=\"icon-ok\"></i>\n",
       "     \n",
       "         In stock\n",
       "     \n",
       " </p>\n",
       " <form>\n",
       " <button class=\"btn btn-primary btn-block\" data-loading-text=\"Adding...\" type=\"submit\">Add to basket</button>\n",
       " </form>\n",
       " </div>\n",
       " </article>,\n",
       " <article class=\"product_pod\">\n",
       " <div class=\"image_container\">\n",
       " <a href=\"the-coming-woman-a-novel-based-on-the-life-of-the-infamous-feminist-victoria-woodhull_993/index.html\"><img alt=\"The Coming Woman: A Novel Based on the Life of the Infamous Feminist, Victoria Woodhull\" class=\"thumbnail\" src=\"../media/cache/3d/54/3d54940e57e662c4dd1f3ff00c78cc64.jpg\"/></a>\n",
       " </div>\n",
       " <p class=\"star-rating Three\">\n",
       " <i class=\"icon-star\"></i>\n",
       " <i class=\"icon-star\"></i>\n",
       " <i class=\"icon-star\"></i>\n",
       " <i class=\"icon-star\"></i>\n",
       " <i class=\"icon-star\"></i>\n",
       " </p>\n",
       " <h3><a href=\"the-coming-woman-a-novel-based-on-the-life-of-the-infamous-feminist-victoria-woodhull_993/index.html\" title=\"The Coming Woman: A Novel Based on the Life of the Infamous Feminist, Victoria Woodhull\">The Coming Woman: A ...</a></h3>\n",
       " <div class=\"product_price\">\n",
       " <p class=\"price_color\">Â£17.93</p>\n",
       " <p class=\"instock availability\">\n",
       " <i class=\"icon-ok\"></i>\n",
       "     \n",
       "         In stock\n",
       "     \n",
       " </p>\n",
       " <form>\n",
       " <button class=\"btn btn-primary btn-block\" data-loading-text=\"Adding...\" type=\"submit\">Add to basket</button>\n",
       " </form>\n",
       " </div>\n",
       " </article>,\n",
       " <article class=\"product_pod\">\n",
       " <div class=\"image_container\">\n",
       " <a href=\"the-boys-in-the-boat-nine-americans-and-their-epic-quest-for-gold-at-the-1936-berlin-olympics_992/index.html\"><img alt=\"The Boys in the Boat: Nine Americans and Their Epic Quest for Gold at the 1936 Berlin Olympics\" class=\"thumbnail\" src=\"../media/cache/66/88/66883b91f6804b2323c8369331cb7dd1.jpg\"/></a>\n",
       " </div>\n",
       " <p class=\"star-rating Four\">\n",
       " <i class=\"icon-star\"></i>\n",
       " <i class=\"icon-star\"></i>\n",
       " <i class=\"icon-star\"></i>\n",
       " <i class=\"icon-star\"></i>\n",
       " <i class=\"icon-star\"></i>\n",
       " </p>\n",
       " <h3><a href=\"the-boys-in-the-boat-nine-americans-and-their-epic-quest-for-gold-at-the-1936-berlin-olympics_992/index.html\" title=\"The Boys in the Boat: Nine Americans and Their Epic Quest for Gold at the 1936 Berlin Olympics\">The Boys in the ...</a></h3>\n",
       " <div class=\"product_price\">\n",
       " <p class=\"price_color\">Â£22.60</p>\n",
       " <p class=\"instock availability\">\n",
       " <i class=\"icon-ok\"></i>\n",
       "     \n",
       "         In stock\n",
       "     \n",
       " </p>\n",
       " <form>\n",
       " <button class=\"btn btn-primary btn-block\" data-loading-text=\"Adding...\" type=\"submit\">Add to basket</button>\n",
       " </form>\n",
       " </div>\n",
       " </article>,\n",
       " <article class=\"product_pod\">\n",
       " <div class=\"image_container\">\n",
       " <a href=\"the-black-maria_991/index.html\"><img alt=\"The Black Maria\" class=\"thumbnail\" src=\"../media/cache/58/46/5846057e28022268153beff6d352b06c.jpg\"/></a>\n",
       " </div>\n",
       " <p class=\"star-rating One\">\n",
       " <i class=\"icon-star\"></i>\n",
       " <i class=\"icon-star\"></i>\n",
       " <i class=\"icon-star\"></i>\n",
       " <i class=\"icon-star\"></i>\n",
       " <i class=\"icon-star\"></i>\n",
       " </p>\n",
       " <h3><a href=\"the-black-maria_991/index.html\" title=\"The Black Maria\">The Black Maria</a></h3>\n",
       " <div class=\"product_price\">\n",
       " <p class=\"price_color\">Â£52.15</p>\n",
       " <p class=\"instock availability\">\n",
       " <i class=\"icon-ok\"></i>\n",
       "     \n",
       "         In stock\n",
       "     \n",
       " </p>\n",
       " <form>\n",
       " <button class=\"btn btn-primary btn-block\" data-loading-text=\"Adding...\" type=\"submit\">Add to basket</button>\n",
       " </form>\n",
       " </div>\n",
       " </article>,\n",
       " <article class=\"product_pod\">\n",
       " <div class=\"image_container\">\n",
       " <a href=\"starving-hearts-triangular-trade-trilogy-1_990/index.html\"><img alt=\"Starving Hearts (Triangular Trade Trilogy, #1)\" class=\"thumbnail\" src=\"../media/cache/be/f4/bef44da28c98f905a3ebec0b87be8530.jpg\"/></a>\n",
       " </div>\n",
       " <p class=\"star-rating Two\">\n",
       " <i class=\"icon-star\"></i>\n",
       " <i class=\"icon-star\"></i>\n",
       " <i class=\"icon-star\"></i>\n",
       " <i class=\"icon-star\"></i>\n",
       " <i class=\"icon-star\"></i>\n",
       " </p>\n",
       " <h3><a href=\"starving-hearts-triangular-trade-trilogy-1_990/index.html\" title=\"Starving Hearts (Triangular Trade Trilogy, #1)\">Starving Hearts (Triangular Trade ...</a></h3>\n",
       " <div class=\"product_price\">\n",
       " <p class=\"price_color\">Â£13.99</p>\n",
       " <p class=\"instock availability\">\n",
       " <i class=\"icon-ok\"></i>\n",
       "     \n",
       "         In stock\n",
       "     \n",
       " </p>\n",
       " <form>\n",
       " <button class=\"btn btn-primary btn-block\" data-loading-text=\"Adding...\" type=\"submit\">Add to basket</button>\n",
       " </form>\n",
       " </div>\n",
       " </article>,\n",
       " <article class=\"product_pod\">\n",
       " <div class=\"image_container\">\n",
       " <a href=\"shakespeares-sonnets_989/index.html\"><img alt=\"Shakespeare's Sonnets\" class=\"thumbnail\" src=\"../media/cache/10/48/1048f63d3b5061cd2f424d20b3f9b666.jpg\"/></a>\n",
       " </div>\n",
       " <p class=\"star-rating Four\">\n",
       " <i class=\"icon-star\"></i>\n",
       " <i class=\"icon-star\"></i>\n",
       " <i class=\"icon-star\"></i>\n",
       " <i class=\"icon-star\"></i>\n",
       " <i class=\"icon-star\"></i>\n",
       " </p>\n",
       " <h3><a href=\"shakespeares-sonnets_989/index.html\" title=\"Shakespeare's Sonnets\">Shakespeare's Sonnets</a></h3>\n",
       " <div class=\"product_price\">\n",
       " <p class=\"price_color\">Â£20.66</p>\n",
       " <p class=\"instock availability\">\n",
       " <i class=\"icon-ok\"></i>\n",
       "     \n",
       "         In stock\n",
       "     \n",
       " </p>\n",
       " <form>\n",
       " <button class=\"btn btn-primary btn-block\" data-loading-text=\"Adding...\" type=\"submit\">Add to basket</button>\n",
       " </form>\n",
       " </div>\n",
       " </article>,\n",
       " <article class=\"product_pod\">\n",
       " <div class=\"image_container\">\n",
       " <a href=\"set-me-free_988/index.html\"><img alt=\"Set Me Free\" class=\"thumbnail\" src=\"../media/cache/5b/88/5b88c52633f53cacf162c15f4f823153.jpg\"/></a>\n",
       " </div>\n",
       " <p class=\"star-rating Five\">\n",
       " <i class=\"icon-star\"></i>\n",
       " <i class=\"icon-star\"></i>\n",
       " <i class=\"icon-star\"></i>\n",
       " <i class=\"icon-star\"></i>\n",
       " <i class=\"icon-star\"></i>\n",
       " </p>\n",
       " <h3><a href=\"set-me-free_988/index.html\" title=\"Set Me Free\">Set Me Free</a></h3>\n",
       " <div class=\"product_price\">\n",
       " <p class=\"price_color\">Â£17.46</p>\n",
       " <p class=\"instock availability\">\n",
       " <i class=\"icon-ok\"></i>\n",
       "     \n",
       "         In stock\n",
       "     \n",
       " </p>\n",
       " <form>\n",
       " <button class=\"btn btn-primary btn-block\" data-loading-text=\"Adding...\" type=\"submit\">Add to basket</button>\n",
       " </form>\n",
       " </div>\n",
       " </article>,\n",
       " <article class=\"product_pod\">\n",
       " <div class=\"image_container\">\n",
       " <a href=\"scott-pilgrims-precious-little-life-scott-pilgrim-1_987/index.html\"><img alt=\"Scott Pilgrim's Precious Little Life (Scott Pilgrim #1)\" class=\"thumbnail\" src=\"../media/cache/94/b1/94b1b8b244bce9677c2f29ccc890d4d2.jpg\"/></a>\n",
       " </div>\n",
       " <p class=\"star-rating Five\">\n",
       " <i class=\"icon-star\"></i>\n",
       " <i class=\"icon-star\"></i>\n",
       " <i class=\"icon-star\"></i>\n",
       " <i class=\"icon-star\"></i>\n",
       " <i class=\"icon-star\"></i>\n",
       " </p>\n",
       " <h3><a href=\"scott-pilgrims-precious-little-life-scott-pilgrim-1_987/index.html\" title=\"Scott Pilgrim's Precious Little Life (Scott Pilgrim #1)\">Scott Pilgrim's Precious Little ...</a></h3>\n",
       " <div class=\"product_price\">\n",
       " <p class=\"price_color\">Â£52.29</p>\n",
       " <p class=\"instock availability\">\n",
       " <i class=\"icon-ok\"></i>\n",
       "     \n",
       "         In stock\n",
       "     \n",
       " </p>\n",
       " <form>\n",
       " <button class=\"btn btn-primary btn-block\" data-loading-text=\"Adding...\" type=\"submit\">Add to basket</button>\n",
       " </form>\n",
       " </div>\n",
       " </article>,\n",
       " <article class=\"product_pod\">\n",
       " <div class=\"image_container\">\n",
       " <a href=\"rip-it-up-and-start-again_986/index.html\"><img alt=\"Rip it Up and Start Again\" class=\"thumbnail\" src=\"../media/cache/81/c4/81c4a973364e17d01f217e1188253d5e.jpg\"/></a>\n",
       " </div>\n",
       " <p class=\"star-rating Five\">\n",
       " <i class=\"icon-star\"></i>\n",
       " <i class=\"icon-star\"></i>\n",
       " <i class=\"icon-star\"></i>\n",
       " <i class=\"icon-star\"></i>\n",
       " <i class=\"icon-star\"></i>\n",
       " </p>\n",
       " <h3><a href=\"rip-it-up-and-start-again_986/index.html\" title=\"Rip it Up and Start Again\">Rip it Up and ...</a></h3>\n",
       " <div class=\"product_price\">\n",
       " <p class=\"price_color\">Â£35.02</p>\n",
       " <p class=\"instock availability\">\n",
       " <i class=\"icon-ok\"></i>\n",
       "     \n",
       "         In stock\n",
       "     \n",
       " </p>\n",
       " <form>\n",
       " <button class=\"btn btn-primary btn-block\" data-loading-text=\"Adding...\" type=\"submit\">Add to basket</button>\n",
       " </form>\n",
       " </div>\n",
       " </article>,\n",
       " <article class=\"product_pod\">\n",
       " <div class=\"image_container\">\n",
       " <a href=\"our-band-could-be-your-life-scenes-from-the-american-indie-underground-1981-1991_985/index.html\"><img alt=\"Our Band Could Be Your Life: Scenes from the American Indie Underground, 1981-1991\" class=\"thumbnail\" src=\"../media/cache/54/60/54607fe8945897cdcced0044103b10b6.jpg\"/></a>\n",
       " </div>\n",
       " <p class=\"star-rating Three\">\n",
       " <i class=\"icon-star\"></i>\n",
       " <i class=\"icon-star\"></i>\n",
       " <i class=\"icon-star\"></i>\n",
       " <i class=\"icon-star\"></i>\n",
       " <i class=\"icon-star\"></i>\n",
       " </p>\n",
       " <h3><a href=\"our-band-could-be-your-life-scenes-from-the-american-indie-underground-1981-1991_985/index.html\" title=\"Our Band Could Be Your Life: Scenes from the American Indie Underground, 1981-1991\">Our Band Could Be ...</a></h3>\n",
       " <div class=\"product_price\">\n",
       " <p class=\"price_color\">Â£57.25</p>\n",
       " <p class=\"instock availability\">\n",
       " <i class=\"icon-ok\"></i>\n",
       "     \n",
       "         In stock\n",
       "     \n",
       " </p>\n",
       " <form>\n",
       " <button class=\"btn btn-primary btn-block\" data-loading-text=\"Adding...\" type=\"submit\">Add to basket</button>\n",
       " </form>\n",
       " </div>\n",
       " </article>,\n",
       " <article class=\"product_pod\">\n",
       " <div class=\"image_container\">\n",
       " <a href=\"olio_984/index.html\"><img alt=\"Olio\" class=\"thumbnail\" src=\"../media/cache/55/33/553310a7162dfbc2c6d19a84da0df9e1.jpg\"/></a>\n",
       " </div>\n",
       " <p class=\"star-rating One\">\n",
       " <i class=\"icon-star\"></i>\n",
       " <i class=\"icon-star\"></i>\n",
       " <i class=\"icon-star\"></i>\n",
       " <i class=\"icon-star\"></i>\n",
       " <i class=\"icon-star\"></i>\n",
       " </p>\n",
       " <h3><a href=\"olio_984/index.html\" title=\"Olio\">Olio</a></h3>\n",
       " <div class=\"product_price\">\n",
       " <p class=\"price_color\">Â£23.88</p>\n",
       " <p class=\"instock availability\">\n",
       " <i class=\"icon-ok\"></i>\n",
       "     \n",
       "         In stock\n",
       "     \n",
       " </p>\n",
       " <form>\n",
       " <button class=\"btn btn-primary btn-block\" data-loading-text=\"Adding...\" type=\"submit\">Add to basket</button>\n",
       " </form>\n",
       " </div>\n",
       " </article>,\n",
       " <article class=\"product_pod\">\n",
       " <div class=\"image_container\">\n",
       " <a href=\"mesaerion-the-best-science-fiction-stories-1800-1849_983/index.html\"><img alt=\"Mesaerion: The Best Science Fiction Stories 1800-1849\" class=\"thumbnail\" src=\"../media/cache/09/a3/09a3aef48557576e1a85ba7efea8ecb7.jpg\"/></a>\n",
       " </div>\n",
       " <p class=\"star-rating One\">\n",
       " <i class=\"icon-star\"></i>\n",
       " <i class=\"icon-star\"></i>\n",
       " <i class=\"icon-star\"></i>\n",
       " <i class=\"icon-star\"></i>\n",
       " <i class=\"icon-star\"></i>\n",
       " </p>\n",
       " <h3><a href=\"mesaerion-the-best-science-fiction-stories-1800-1849_983/index.html\" title=\"Mesaerion: The Best Science Fiction Stories 1800-1849\">Mesaerion: The Best Science ...</a></h3>\n",
       " <div class=\"product_price\">\n",
       " <p class=\"price_color\">Â£37.59</p>\n",
       " <p class=\"instock availability\">\n",
       " <i class=\"icon-ok\"></i>\n",
       "     \n",
       "         In stock\n",
       "     \n",
       " </p>\n",
       " <form>\n",
       " <button class=\"btn btn-primary btn-block\" data-loading-text=\"Adding...\" type=\"submit\">Add to basket</button>\n",
       " </form>\n",
       " </div>\n",
       " </article>,\n",
       " <article class=\"product_pod\">\n",
       " <div class=\"image_container\">\n",
       " <a href=\"libertarianism-for-beginners_982/index.html\"><img alt=\"Libertarianism for Beginners\" class=\"thumbnail\" src=\"../media/cache/0b/bc/0bbcd0a6f4bcd81ccb1049a52736406e.jpg\"/></a>\n",
       " </div>\n",
       " <p class=\"star-rating Two\">\n",
       " <i class=\"icon-star\"></i>\n",
       " <i class=\"icon-star\"></i>\n",
       " <i class=\"icon-star\"></i>\n",
       " <i class=\"icon-star\"></i>\n",
       " <i class=\"icon-star\"></i>\n",
       " </p>\n",
       " <h3><a href=\"libertarianism-for-beginners_982/index.html\" title=\"Libertarianism for Beginners\">Libertarianism for Beginners</a></h3>\n",
       " <div class=\"product_price\">\n",
       " <p class=\"price_color\">Â£51.33</p>\n",
       " <p class=\"instock availability\">\n",
       " <i class=\"icon-ok\"></i>\n",
       "     \n",
       "         In stock\n",
       "     \n",
       " </p>\n",
       " <form>\n",
       " <button class=\"btn btn-primary btn-block\" data-loading-text=\"Adding...\" type=\"submit\">Add to basket</button>\n",
       " </form>\n",
       " </div>\n",
       " </article>,\n",
       " <article class=\"product_pod\">\n",
       " <div class=\"image_container\">\n",
       " <a href=\"its-only-the-himalayas_981/index.html\"><img alt=\"It's Only the Himalayas\" class=\"thumbnail\" src=\"../media/cache/27/a5/27a53d0bb95bdd88288eaf66c9230d7e.jpg\"/></a>\n",
       " </div>\n",
       " <p class=\"star-rating Two\">\n",
       " <i class=\"icon-star\"></i>\n",
       " <i class=\"icon-star\"></i>\n",
       " <i class=\"icon-star\"></i>\n",
       " <i class=\"icon-star\"></i>\n",
       " <i class=\"icon-star\"></i>\n",
       " </p>\n",
       " <h3><a href=\"its-only-the-himalayas_981/index.html\" title=\"It's Only the Himalayas\">It's Only the Himalayas</a></h3>\n",
       " <div class=\"product_price\">\n",
       " <p class=\"price_color\">Â£45.17</p>\n",
       " <p class=\"instock availability\">\n",
       " <i class=\"icon-ok\"></i>\n",
       "     \n",
       "         In stock\n",
       "     \n",
       " </p>\n",
       " <form>\n",
       " <button class=\"btn btn-primary btn-block\" data-loading-text=\"Adding...\" type=\"submit\">Add to basket</button>\n",
       " </form>\n",
       " </div>\n",
       " </article>]"
      ]
     },
     "execution_count": 54,
     "metadata": {},
     "output_type": "execute_result"
    }
   ],
   "source": [
    "soup.select('.product_pod')\n",
    "# Now we can see that each book has the product_pod class. We can select any tag with this class, and then further reduce it by its rating."
   ]
  },
  {
   "cell_type": "code",
   "execution_count": 55,
   "id": "28dd2613-2ca4-4f44-973a-7086183bdbb2",
   "metadata": {},
   "outputs": [],
   "source": [
    "products = soup.select('.product_pod')"
   ]
  },
  {
   "cell_type": "code",
   "execution_count": 58,
   "id": "64149eab-95f6-4f4f-b2ce-3f8be55dea00",
   "metadata": {},
   "outputs": [
    {
     "data": {
      "text/plain": [
       "<article class=\"product_pod\">\n",
       "<div class=\"image_container\">\n",
       "<a href=\"a-light-in-the-attic_1000/index.html\"><img alt=\"A Light in the Attic\" class=\"thumbnail\" src=\"../media/cache/2c/da/2cdad67c44b002e7ead0cc35693c0e8b.jpg\"/></a>\n",
       "</div>\n",
       "<p class=\"star-rating Three\">\n",
       "<i class=\"icon-star\"></i>\n",
       "<i class=\"icon-star\"></i>\n",
       "<i class=\"icon-star\"></i>\n",
       "<i class=\"icon-star\"></i>\n",
       "<i class=\"icon-star\"></i>\n",
       "</p>\n",
       "<h3><a href=\"a-light-in-the-attic_1000/index.html\" title=\"A Light in the Attic\">A Light in the ...</a></h3>\n",
       "<div class=\"product_price\">\n",
       "<p class=\"price_color\">Â£51.77</p>\n",
       "<p class=\"instock availability\">\n",
       "<i class=\"icon-ok\"></i>\n",
       "    \n",
       "        In stock\n",
       "    \n",
       "</p>\n",
       "<form>\n",
       "<button class=\"btn btn-primary btn-block\" data-loading-text=\"Adding...\" type=\"submit\">Add to basket</button>\n",
       "</form>\n",
       "</div>\n",
       "</article>"
      ]
     },
     "execution_count": 58,
     "metadata": {},
     "output_type": "execute_result"
    }
   ],
   "source": [
    "example = products[0]\n",
    "example"
   ]
  },
  {
   "cell_type": "code",
   "execution_count": 59,
   "id": "1f9a8325-7753-4572-a1f9-6bb00b59959b",
   "metadata": {},
   "outputs": [
    {
     "data": {
      "text/plain": [
       "bs4.element.Tag"
      ]
     },
     "execution_count": 59,
     "metadata": {},
     "output_type": "execute_result"
    }
   ],
   "source": [
    "type(example)"
   ]
  },
  {
   "cell_type": "code",
   "execution_count": 60,
   "id": "6f182b08-2f74-4cfa-bb05-c31201472603",
   "metadata": {},
   "outputs": [
    {
     "data": {
      "text/plain": [
       "{'class': ['product_pod']}"
      ]
     },
     "execution_count": 60,
     "metadata": {},
     "output_type": "execute_result"
    }
   ],
   "source": [
    "example.attrs"
   ]
  },
  {
   "cell_type": "code",
   "execution_count": 61,
   "id": "c82567a3-b42f-4123-8604-322ecdb352b6",
   "metadata": {},
   "outputs": [
    {
     "data": {
      "text/plain": [
       "['\\n',\n",
       " <div class=\"image_container\">\n",
       " <a href=\"a-light-in-the-attic_1000/index.html\"><img alt=\"A Light in the Attic\" class=\"thumbnail\" src=\"../media/cache/2c/da/2cdad67c44b002e7ead0cc35693c0e8b.jpg\"/></a>\n",
       " </div>,\n",
       " '\\n',\n",
       " <p class=\"star-rating Three\">\n",
       " <i class=\"icon-star\"></i>\n",
       " <i class=\"icon-star\"></i>\n",
       " <i class=\"icon-star\"></i>\n",
       " <i class=\"icon-star\"></i>\n",
       " <i class=\"icon-star\"></i>\n",
       " </p>,\n",
       " '\\n',\n",
       " <h3><a href=\"a-light-in-the-attic_1000/index.html\" title=\"A Light in the Attic\">A Light in the ...</a></h3>,\n",
       " '\\n',\n",
       " <div class=\"product_price\">\n",
       " <p class=\"price_color\">Â£51.77</p>\n",
       " <p class=\"instock availability\">\n",
       " <i class=\"icon-ok\"></i>\n",
       "     \n",
       "         In stock\n",
       "     \n",
       " </p>\n",
       " <form>\n",
       " <button class=\"btn btn-primary btn-block\" data-loading-text=\"Adding...\" type=\"submit\">Add to basket</button>\n",
       " </form>\n",
       " </div>,\n",
       " '\\n']"
      ]
     },
     "execution_count": 61,
     "metadata": {},
     "output_type": "execute_result"
    }
   ],
   "source": [
    "list(example.children)"
   ]
  },
  {
   "cell_type": "code",
   "execution_count": 62,
   "id": "a1f79672-4e2e-4a64-917e-22e9d29ccf3e",
   "metadata": {},
   "outputs": [
    {
     "data": {
      "text/plain": [
       "[<p class=\"star-rating Three\">\n",
       " <i class=\"icon-star\"></i>\n",
       " <i class=\"icon-star\"></i>\n",
       " <i class=\"icon-star\"></i>\n",
       " <i class=\"icon-star\"></i>\n",
       " <i class=\"icon-star\"></i>\n",
       " </p>]"
      ]
     },
     "execution_count": 62,
     "metadata": {},
     "output_type": "execute_result"
    }
   ],
   "source": [
    "example.select('.star-rating.Three')"
   ]
  },
  {
   "cell_type": "code",
   "execution_count": 63,
   "id": "76a1eab9-d667-4662-950b-39d33f777ce5",
   "metadata": {},
   "outputs": [
    {
     "data": {
      "text/plain": [
       "[]"
      ]
     },
     "execution_count": 63,
     "metadata": {},
     "output_type": "execute_result"
    }
   ],
   "source": [
    "example.select('.star-rating.Two')"
   ]
  },
  {
   "cell_type": "code",
   "execution_count": 68,
   "id": "2da4b77a-f49b-4de4-bba2-70b90fd19d06",
   "metadata": {},
   "outputs": [
    {
     "data": {
      "text/plain": [
       "0"
      ]
     },
     "execution_count": 68,
     "metadata": {},
     "output_type": "execute_result"
    }
   ],
   "source": [
    "len(example.select('.star-rating.Two'))"
   ]
  },
  {
   "cell_type": "code",
   "execution_count": 65,
   "id": "55d7cdf8-0de1-4ef0-b635-cb812e2d5dbb",
   "metadata": {},
   "outputs": [
    {
     "data": {
      "text/plain": [
       "[<a href=\"a-light-in-the-attic_1000/index.html\"><img alt=\"A Light in the Attic\" class=\"thumbnail\" src=\"../media/cache/2c/da/2cdad67c44b002e7ead0cc35693c0e8b.jpg\"/></a>,\n",
       " <a href=\"a-light-in-the-attic_1000/index.html\" title=\"A Light in the Attic\">A Light in the ...</a>]"
      ]
     },
     "execution_count": 65,
     "metadata": {},
     "output_type": "execute_result"
    }
   ],
   "source": [
    "example.select('a')"
   ]
  },
  {
   "cell_type": "code",
   "execution_count": 66,
   "id": "1014eb3d-9c0d-4987-ad83-b20a839e1f27",
   "metadata": {},
   "outputs": [
    {
     "data": {
      "text/plain": [
       "<a href=\"a-light-in-the-attic_1000/index.html\" title=\"A Light in the Attic\">A Light in the ...</a>"
      ]
     },
     "execution_count": 66,
     "metadata": {},
     "output_type": "execute_result"
    }
   ],
   "source": [
    "example.select('a')[1]"
   ]
  },
  {
   "cell_type": "code",
   "execution_count": 67,
   "id": "5a6ab0d9-50ca-4fe9-bf37-41efbf1da134",
   "metadata": {},
   "outputs": [
    {
     "data": {
      "text/plain": [
       "'A Light in the Attic'"
      ]
     },
     "execution_count": 67,
     "metadata": {},
     "output_type": "execute_result"
    }
   ],
   "source": [
    "example.select('a')[1]['title']"
   ]
  },
  {
   "cell_type": "markdown",
   "id": "8b1f0cbf-a5ac-4ea5-9068-1cf377cd767e",
   "metadata": {},
   "source": [
    "Okay, let’s give it a shot by combining all the ideas we’ve talked about! (this should take about 20-60 seconds to complete running. Be aware a firwall may prevent this script from running. Also if you are getting a no response error, maybe try adding a sleep step with time.sleep(1)."
   ]
  },
  {
   "cell_type": "code",
   "execution_count": 69,
   "id": "1033b3cb-3e13-4dce-a42c-e91a6b627738",
   "metadata": {},
   "outputs": [],
   "source": [
    "two_star_title = []\n",
    "\n",
    "for n in range(1, 51):\n",
    "    \n",
    "    scrape_url = base_url.format(n)\n",
    "    res = requests.get(scrape_url)\n",
    "    \n",
    "    soup = bs4.BeautifulSoup(res.text,'lxml')\n",
    "    books = soup.select('.product_pod')\n",
    "    \n",
    "    for book in books:\n",
    "        if len(book.select('.star-rating.Two')) != 0:\n",
    "            two_star_title.append(book.select('a')[1]['title'])"
   ]
  },
  {
   "cell_type": "code",
   "execution_count": 70,
   "id": "a96d2ccc-6a57-4891-8f40-3baf47bd63c3",
   "metadata": {},
   "outputs": [
    {
     "data": {
      "text/plain": [
       "['Starving Hearts (Triangular Trade Trilogy, #1)',\n",
       " 'Libertarianism for Beginners',\n",
       " \"It's Only the Himalayas\",\n",
       " 'How Music Works',\n",
       " 'Maude (1883-1993):She Grew Up with the country',\n",
       " \"You can't bury them all: Poems\",\n",
       " 'Reasons to Stay Alive',\n",
       " 'Without Borders (Wanderlove #1)',\n",
       " 'Soul Reader',\n",
       " 'Security',\n",
       " 'Saga, Volume 5 (Saga (Collected Editions) #5)',\n",
       " 'Reskilling America: Learning to Labor in the Twenty-First Century',\n",
       " 'Political Suicide: Missteps, Peccadilloes, Bad Calls, Backroom Hijinx, Sordid Pasts, Rotten Breaks, and Just Plain Dumb Mistakes in the Annals of American Politics',\n",
       " 'Obsidian (Lux #1)',\n",
       " 'My Paris Kitchen: Recipes and Stories',\n",
       " 'Masks and Shadows',\n",
       " 'Lumberjanes, Vol. 2: Friendship to the Max (Lumberjanes #5-8)',\n",
       " 'Lumberjanes Vol. 3: A Terrible Plan (Lumberjanes #9-12)',\n",
       " 'Judo: Seven Steps to Black Belt (an Introductory Guide for Beginners)',\n",
       " 'I Hate Fairyland, Vol. 1: Madly Ever After (I Hate Fairyland (Compilations) #1-5)',\n",
       " 'Giant Days, Vol. 2 (Giant Days #5-8)',\n",
       " 'Everydata: The Misinformation Hidden in the Little Data You Consume Every Day',\n",
       " \"Don't Be a Jerk: And Other Practical Advice from Dogen, Japan's Greatest Zen Master\",\n",
       " 'Bossypants',\n",
       " 'Bitch Planet, Vol. 1: Extraordinary Machine (Bitch Planet (Collected Editions))',\n",
       " 'Avatar: The Last Airbender: Smoke and Shadow, Part 3 (Smoke and Shadow #3)',\n",
       " 'Tuesday Nights in 1980',\n",
       " 'The Psychopath Test: A Journey Through the Madness Industry',\n",
       " 'The Power of Now: A Guide to Spiritual Enlightenment',\n",
       " \"The Omnivore's Dilemma: A Natural History of Four Meals\",\n",
       " 'The Love and Lemons Cookbook: An Apple-to-Zucchini Celebration of Impromptu Cooking',\n",
       " 'The Girl on the Train',\n",
       " 'The Emerald Mystery',\n",
       " 'The Argonauts',\n",
       " 'Suddenly in Love (Lake Haven #1)',\n",
       " 'Soft Apocalypse',\n",
       " \"So You've Been Publicly Shamed\",\n",
       " 'Shoe Dog: A Memoir by the Creator of NIKE',\n",
       " 'Louisa: The Extraordinary Life of Mrs. Adams',\n",
       " 'Large Print Heart of the Pride',\n",
       " 'Grumbles',\n",
       " 'Chasing Heaven: What Dying Taught Me About Living',\n",
       " 'Becoming Wise: An Inquiry into the Mystery and Art of Living',\n",
       " 'Beauty Restored (Riley Family Legacy Novellas #3)',\n",
       " 'Batman: The Long Halloween (Batman)',\n",
       " \"Ayumi's Violin\",\n",
       " 'Wild Swans',\n",
       " \"What's It Like in Space?: Stories from Astronauts Who've Been There\",\n",
       " 'Until Friday Night (The Field Party #1)',\n",
       " 'Unbroken: A World War II Story of Survival, Resilience, and Redemption',\n",
       " 'Twenty Yawns',\n",
       " 'Through the Woods',\n",
       " 'This Is Where It Ends',\n",
       " 'The Year of Magical Thinking',\n",
       " 'The Last Mile (Amos Decker #2)',\n",
       " 'The Immortal Life of Henrietta Lacks',\n",
       " 'The Hidden Oracle (The Trials of Apollo #1)',\n",
       " 'The Guilty (Will Robie #4)',\n",
       " 'Red Hood/Arsenal, Vol. 1: Open for Business (Red Hood/Arsenal #1)',\n",
       " 'Once Was a Time',\n",
       " 'No Dream Is Too High: Life Lessons From a Man Who Walked on the Moon',\n",
       " 'Naruto (3-in-1 Edition), Vol. 14: Includes Vols. 40, 41 & 42 (Naruto: Omnibus #14)',\n",
       " 'More Than Music (Chasing the Dream #1)',\n",
       " 'Lowriders to the Center of the Earth (Lowriders in Space #2)',\n",
       " 'Eat Fat, Get Thin',\n",
       " 'Doctor Sleep (The Shining #2)',\n",
       " 'Crazy Love: Overwhelmed by a Relentless God',\n",
       " 'Carrie',\n",
       " 'Batman: Europa',\n",
       " 'Angels Walking (Angels Walking #1)',\n",
       " 'Adulthood Is a Myth: A \"Sarah\\'s Scribbles\" Collection',\n",
       " 'A Study in Scarlet (Sherlock Holmes #1)',\n",
       " 'A Series of Catastrophes and Miracles: A True Story of Love, Science, and Cancer',\n",
       " \"A People's History of the United States\",\n",
       " 'My Kitchen Year: 136 Recipes That Saved My Life',\n",
       " 'The Lonely City: Adventures in the Art of Being Alone',\n",
       " 'The Dinner Party',\n",
       " 'Stars Above (The Lunar Chronicles #4.5)',\n",
       " 'Love, Lies and Spies',\n",
       " 'Troublemaker: Surviving Hollywood and Scientology',\n",
       " 'The Widow',\n",
       " 'Setting the World on Fire: The Brief, Astonishing Life of St. Catherine of Siena',\n",
       " 'Mothering Sunday',\n",
       " 'Lilac Girls',\n",
       " '10% Happier: How I Tamed the Voice in My Head, Reduced Stress Without Losing My Edge, and Found Self-Help That Actually Works',\n",
       " 'Underlying Notes',\n",
       " 'The Flowers Lied',\n",
       " 'Modern Day Fables',\n",
       " \"Chernobyl 01:23:40: The Incredible True Story of the World's Worst Nuclear Disaster\",\n",
       " '23 Degrees South: A Tropical Tale of Changing Whether...',\n",
       " 'When Breath Becomes Air',\n",
       " 'Vagabonding: An Uncommon Guide to the Art of Long-Term World Travel',\n",
       " 'The Martian (The Martian #1)',\n",
       " \"Miller's Valley\",\n",
       " \"Love That Boy: What Two Presidents, Eight Road Trips, and My Son Taught Me About a Parent's Expectations\",\n",
       " 'Left Behind (Left Behind #1)',\n",
       " 'Howl and Other Poems',\n",
       " \"Heaven is for Real: A Little Boy's Astounding Story of His Trip to Heaven and Back\",\n",
       " \"Brazen: The Courage to Find the You That's Been Hiding\",\n",
       " '32 Yolks',\n",
       " 'Wildlife of New York: A Five-Borough Coloring Book',\n",
       " 'Unreasonable Hope: Finding Faith in the God Who Brings Purpose to Your Pain',\n",
       " 'The Art Book',\n",
       " 'Steal Like an Artist: 10 Things Nobody Told You About Being Creative',\n",
       " 'Raymie Nightingale',\n",
       " 'Like Never Before (Walker Family #2)',\n",
       " 'How to Be a Domestic Goddess: Baking and the Art of Comfort Cooking',\n",
       " 'Finding God in the Ruins: How God Redeems Pain',\n",
       " 'Chronicles, Vol. 1',\n",
       " 'A Summer In Europe',\n",
       " 'The Rise and Fall of the Third Reich: A History of Nazi Germany',\n",
       " 'The Makings of a Fatherless Child',\n",
       " 'The Fellowship of the Ring (The Lord of the Rings #1)',\n",
       " \"Tell the Wolves I'm Home\",\n",
       " 'In the Woods (Dublin Murder Squad #1)',\n",
       " 'Give It Back',\n",
       " 'Why Save the Bankers?: And Other Essays on Our Economic and Political Crisis',\n",
       " 'The Raven King (The Raven Cycle #4)',\n",
       " 'The Expatriates',\n",
       " 'The 5th Wave (The 5th Wave #1)',\n",
       " 'Peak: Secrets from the New Science of Expertise',\n",
       " 'Logan Kade (Fallen Crest High #5.5)',\n",
       " \"I Know Why the Caged Bird Sings (Maya Angelou's Autobiography #1)\",\n",
       " 'Drama',\n",
       " \"America's War for the Greater Middle East: A Military History\",\n",
       " 'A Game of Thrones (A Song of Ice and Fire #1)',\n",
       " \"The Pilgrim's Progress\",\n",
       " 'The Hound of the Baskervilles (Sherlock Holmes #5)',\n",
       " \"The Geography of Bliss: One Grump's Search for the Happiest Places in the World\",\n",
       " 'The Demonists (Demonist #1)',\n",
       " 'The Demon Prince of Momochi House, Vol. 4 (The Demon Prince of Momochi House #4)',\n",
       " 'Misery',\n",
       " 'Far From True (Promise Falls Trilogy #2)',\n",
       " 'Confessions of a Shopaholic (Shopaholic #1)',\n",
       " 'Vegan Vegetarian Omnivore: Dinner for Everyone at the Table',\n",
       " 'Two Boys Kissing',\n",
       " 'Twilight (Twilight #1)',\n",
       " 'Twenties Girl',\n",
       " 'The Tipping Point: How Little Things Can Make a Big Difference',\n",
       " 'The Stand',\n",
       " 'The Picture of Dorian Gray',\n",
       " 'The Name of God is Mercy',\n",
       " \"The Lover's Dictionary\",\n",
       " 'The Last Painting of Sara de Vos',\n",
       " 'The Guns of August',\n",
       " 'The Girl Who Played with Fire (Millennium Trilogy #2)',\n",
       " 'The Da Vinci Code (Robert Langdon #2)',\n",
       " 'The Cat in the Hat (Beginner Books B-1)',\n",
       " 'The Book Thief',\n",
       " 'The Autobiography of Malcolm X',\n",
       " \"Surely You're Joking, Mr. Feynman!: Adventures of a Curious Character\",\n",
       " 'Soldier (Talon #3)',\n",
       " 'Shopaholic & Baby (Shopaholic #5)',\n",
       " 'Seven Days in the Art World',\n",
       " 'Rework',\n",
       " 'Packing for Mars: The Curious Science of Life in the Void',\n",
       " 'Orange Is the New Black',\n",
       " 'One for the Money (Stephanie Plum #1)',\n",
       " 'Midnight Riot (Peter Grant/ Rivers of London - books #1)',\n",
       " 'Me Talk Pretty One Day',\n",
       " 'Manuscript Found in Accra',\n",
       " 'Lust & Wonder',\n",
       " \"Life, the Universe and Everything (Hitchhiker's Guide to the Galaxy #3)\",\n",
       " 'Life After Life',\n",
       " 'I Am Malala: The Girl Who Stood Up for Education and Was Shot by the Taliban',\n",
       " 'House of Lost Worlds: Dinosaurs, Dynasties, and the Story of Life on Earth',\n",
       " 'Horrible Bear!',\n",
       " 'Holidays on Ice',\n",
       " 'Girl in the Blue Coat',\n",
       " 'Fruits Basket, Vol. 3 (Fruits Basket #3)',\n",
       " 'Cosmos',\n",
       " 'Civilization and Its Discontents',\n",
       " \"Catastrophic Happiness: Finding Joy in Childhood's Messy Years\",\n",
       " 'Career of Evil (Cormoran Strike #3)',\n",
       " 'Born to Run: A Hidden Tribe, Superathletes, and the Greatest Race the World Has Never Seen',\n",
       " \"Best of My Love (Fool's Gold #20)\",\n",
       " 'Beowulf',\n",
       " 'Awkward',\n",
       " 'And Then There Were None',\n",
       " 'A Storm of Swords (A Song of Ice and Fire #3)',\n",
       " 'The Suffragettes (Little Black Classics, #96)',\n",
       " 'Vampire Girl (Vampire Girl #1)',\n",
       " 'Three Wishes (River of Time: California #1)',\n",
       " 'The Wicked + The Divine, Vol. 1: The Faust Act (The Wicked + The Divine)',\n",
       " 'The Little Prince',\n",
       " 'The Last Girl (The Dominion Trilogy #1)',\n",
       " 'Taking Shots (Assassins #1)',\n",
       " 'Settling the Score (The Summer Games #1)',\n",
       " 'Rhythm, Chord & Malykhin',\n",
       " 'One Second (Seven #7)',\n",
       " \"Old Records Never Die: One Man's Quest for His Vinyl and His Past\",\n",
       " 'Of Mice and Men',\n",
       " 'My Perfect Mistake (Over the Top #1)',\n",
       " 'Meditations',\n",
       " 'Frankenstein',\n",
       " 'Emma']"
      ]
     },
     "execution_count": 70,
     "metadata": {},
     "output_type": "execute_result"
    }
   ],
   "source": [
    "two_star_title"
   ]
  },
  {
   "cell_type": "code",
   "execution_count": null,
   "id": "e41a431a-9cec-45d4-a182-d7e5dbe41cae",
   "metadata": {},
   "outputs": [],
   "source": []
  }
 ],
 "metadata": {
  "kernelspec": {
   "display_name": "Python 3 (ipykernel)",
   "language": "python",
   "name": "python3"
  },
  "language_info": {
   "codemirror_mode": {
    "name": "ipython",
    "version": 3
   },
   "file_extension": ".py",
   "mimetype": "text/x-python",
   "name": "python",
   "nbconvert_exporter": "python",
   "pygments_lexer": "ipython3",
   "version": "3.9.7"
  }
 },
 "nbformat": 4,
 "nbformat_minor": 5
}
